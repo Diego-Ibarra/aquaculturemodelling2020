{
 "cells": [
  {
   "cell_type": "code",
   "execution_count": 2,
   "metadata": {},
   "outputs": [],
   "source": [
    "%matplotlib inline"
   ]
  },
  {
   "cell_type": "markdown",
   "metadata": {},
   "source": [
    "Building a simple plankton-mussel (NPZM) model\n",
    "==========================================\n",
    "\n",
    "---\n",
    "\n",
    "In this tutorial, we will pretend that HRM just contract our team to determine if adding freshwater mussels in the Public Gardens (Halifax), could reduce the increase in phytoplankton biomass caused by people feeding the ducks. To tackle this question, first we will build a Nutrient/Phytoplankton/Zooplankton (NPZ) numerical model from scratch to simulate the ecosystem dynamics of the Public Gardens pond. Second, we will add \"virtual\" mussels to the model to see if phytoplankton biomass decreases. \n",
    "\n",
    "Objectives:\n",
    "-----------\n",
    "\n",
    "- design an NPZ model conceptually (already done in preceding PowerPoint)\n",
    "- transfer our \"conceptual model\" to equations (already done in preceding PowerPoint)\n",
    "- transfer our equations to computer code\n",
    "- run your model and visualize its output\n",
    "- quality control our model\n",
    "- compute \"ancillary diagnostic variables\"\n",
    "- use these \"ancillary diagnostic variables\" to understand the dynamics of our ecosystem\n",
    "- add mussels to the model\n",
    "- use the model to answer HRM's question: Can mussels decrease phytoplankton biomass caused in the Public Gardens?\n",
    "\n",
    "---\n",
    "\n",
    "#### Notes:\n",
    "\n",
    "- Web-rendered URL for this tutorial: http://nbviewer.ipython.org/urls/bitbucket.org/Diego_Ibarra/aquaculturemodelling2017/raw/tip/Week2/Simple_Plankton_Mussel_Model.ipynb\n",
    "\n",
    "---\n"
   ]
  },
  {
   "cell_type": "markdown",
   "metadata": {},
   "source": [
    "Conceptual Model\n",
    "----------------\n",
    "\n",
    "Previously (in preceding PowerPoint) we built an NPZ model with the dynamics show in the diagram below. The \"currency\" of the model is nitrogen (i.e. $mmol N m^{-3}$) and the state variables are Nutrients ($N$), Phytoplankton ($P$) and Zooplankton ($Z$)."
   ]
  },
  {
   "cell_type": "markdown",
   "metadata": {},
   "source": [
    "<img src=\"NPZmodel.png\">"
   ]
  },
  {
   "cell_type": "markdown",
   "metadata": {},
   "source": [
    "---\n",
    "\n",
    "Partial differential equations\n",
    "-----------------------------\n",
    "\n",
    "Also in the preceding PowerPoint, we build our model's equations representing the time rate of change of Phytoplankton ($\\partial P / \\partial t$), Nutrients ($\\partial N / \\partial t$) and Zooplankton ($\\partial Z / \\partial t$), which are shown below (see symbols in table below):\n",
    "\n",
    "\n",
    "(1) $$ \\frac{\\partial P}{\\partial t} = \\mu L^N P - \\gamma L^P Z - m_P P$$\n",
    "\n",
    "(2) $$  \\frac{\\partial N}{\\partial t} = m_P P + m_ZZ - \\mu L^N P $$\n",
    "\n",
    "(3) $$  \\frac{\\partial Z}{\\partial t} = \\gamma L^P Z -m_ZZ $$\n",
    "\n",
    "(4) $$L^N = \\frac{N}{K+N}$$\n",
    "\n",
    "(5) $$L^P = 1-e^{-\\Lambda P}$$\n",
    "<br><br>\n",
    "\n",
    "\n",
    "Symbol  |  Units  |  Description\n",
    ":---: | --- | ---\n",
    "$P$ | $mmol N m^{-3}$ | phytonplankton concentration\n",
    "$N$ | $mmol N m^{-3}$ | nutrients concentration\n",
    "$Z$ | $mmol N m^{-3}$ | zooplankton concentration\n",
    "$L^N$ | dimensionless | Limitation due to (low) nutrients on phytoplankton (see Eq. 4)\n",
    "$L^P$ | dimensionless | Limitation due to (low) phytoplankton on zooplankton (see Eq. 5)\n",
    "$K$ | $mmol N m^{-3}$ | Half-saturation for nutrient absoption by phytoplankton\n",
    "$t$ | $days$ | time\n",
    "$\\Lambda$ | $mmol N^{-1} m^3$ | Initial slope of ingestion saturation of zooplankton\n",
    "$m_P$ | $d^{-1}$ | mortality rate of phytoplankton\n",
    "$m_Z$ | $d^{-1}$ | mortality rate of zooplankton\n",
    "$\\mu$ | $d^{-1}$ | growth rate of phytoplankto\n",
    "$\\gamma$ | $d^{-1}$ | growth rate of zooplankton\n",
    "\n",
    "\n",
    "---"
   ]
  },
  {
   "cell_type": "markdown",
   "metadata": {},
   "source": [
    "Discretized equations\n",
    "-----------------\n",
    "\n",
    "Also in the preceding PowerPoint we used a very simple discretization method (i.e. Euler method) to discretize our partial differential equations into equation in discrete space (i.e. not continuous space). The discretized equations are shown below:\n",
    "\n",
    "(6) $$ P_{t+1} = P_t + \\left\\{ \\left[ \\mu L^N_t P_t - \\gamma L^P_t Z_t - m_P P_t \\right] \\Delta t \\right\\} $$\n",
    "\n",
    "(7) $$  N_{t+1} = N_t + \\left\\{ \\left[ m_P P_t + m_Z Z_t - \\mu L^N_t P_t \\right] \\Delta t \\right\\} $$\n",
    "\n",
    "(8) $$  Z_{t+1} = Z_t +  \\left\\{ \\left[ \\gamma L^P_t Z_t -m_ZZ_t \\right] \\Delta t \\right\\} $$\n",
    "\n",
    "(9) $$L^N_t = \\frac{N_t}{K+N_t}$$\n",
    "\n",
    "(10) $$L^P_t = 1-e^{-\\Lambda P_t}$$\n",
    "\n",
    "---"
   ]
  },
  {
   "cell_type": "markdown",
   "metadata": {},
   "source": [
    "Transferring equations to computer code\n",
    "---------------------------------------\n",
    "\n",
    "**Spyder:** from here on you will be required to copy-paste bits of code from *\"this website\"* to *Spyder*, which is a free Integrated Development environment for Python that came included with *Anaconda*. To start, search in the Window's taskbar for  \"*Spyder*\".\n",
    "\n",
    "The idea behind all this copy-pasting is to simulate the normal process that someone may follow in the development of a new model from scratch.\n",
    "\n",
    "So, open *Spyder*, create a new file and save it as **NPZmodel.py**.\n",
    "\n",
    "---\n"
   ]
  },
  {
   "cell_type": "markdown",
   "metadata": {},
   "source": [
    "### Create parameters\n",
    "\n",
    "\n",
    "Copy-paste into **NPZmodel.py** the following..."
   ]
  },
  {
   "cell_type": "code",
   "execution_count": 3,
   "metadata": {},
   "outputs": [],
   "source": [
    "#%% Framework\n",
    "days = 10\n",
    "dt   = 0.01 # units: days\n",
    "\n",
    "# Parameters\n",
    "mu     = 0.5  # growth rate of pythoplankton (units: d^-1)\n",
    "K      = 1    # half-saturation for nutrient absoption by pythoplankton (units: mmolN m^-3)\n",
    "gamma  = 0.4  # growth rate of zooplankton (units: d^-1)\n",
    "Lambda = 0.1  # initial slope of ingestion saturation of zooplankton (units: mmol N^-1 m^3)\n",
    "mP     = 0.07 # mortality rate of pythoplankton (units: d^-1)\n",
    "mZ     = 0.03 # mortality rate of zooplankton (units: d^-1)\n",
    "\n",
    "# Initial conditions\n",
    "Pinitial = 4  # initial pythoplankton concentration (units: mmolN m^-3)\n",
    "Ninitial = 10 # initial nutrients concentration (units: mmolN m^-3)\n",
    "Zinitial = 2  # initial zooplankton concentration (units: mmolN m^-3)"
   ]
  },
  {
   "cell_type": "markdown",
   "metadata": {},
   "source": [
    "Just as a quick test...\n",
    "<span class=\"run\"></span> code and then type **mu** in the **Console** and then click **enter**. Python should reply with the value of **mu** as shown below...\n",
    "\n",
    "<div class=\"c2c\"></div>"
   ]
  },
  {
   "cell_type": "code",
   "execution_count": 4,
   "metadata": {},
   "outputs": [
    {
     "data": {
      "text/plain": [
       "0.5"
      ]
     },
     "execution_count": 4,
     "metadata": {},
     "output_type": "execute_result"
    }
   ],
   "source": [
    "mu"
   ]
  },
  {
   "cell_type": "markdown",
   "metadata": {
    "collapsed": true
   },
   "source": [
    "<div class=\"Q\"><br>\n",
    "\n",
    "What is the value of <b>K</b>?\n",
    "\n",
    "<br><br><div class=\"qhelp\"></div></div>"
   ]
  },
  {
   "cell_type": "markdown",
   "metadata": {
    "collapsed": true
   },
   "source": [
    "<div class=\"Q\"><br>\n",
    "\n",
    "What is the value of <b>dt</b>?\n",
    "\n",
    "<br><br><div class=\"qhelp\"></div></div>"
   ]
  },
  {
   "cell_type": "markdown",
   "metadata": {},
   "source": [
    "*******\n",
    "\n",
    "## Using Checkpoints\n",
    "\n",
    "**CHECKPOINTS** (like the one in the yellow link below) are text files containing the Python code that you should have in your **NPZmodel.py** file up to this point. As you continue down the lab, the code within CHECKPOINTS grows incrementally. CHECKPOINTS are great to compare against your own code to see if you did everything correctly. Additionally, if you get a bit lost, you can always click on an earlier \"CHECKPOINT\" link and copy-paste its contents to your file... that will get you all caught up, without having to redo the entire lab.\n",
    "\n",
    "<span style=\"background-color:yellow;color:blue;font-size:17px\">\n",
    "<a href=\"https://bitbucket.org/Diego_Ibarra/aquaculturemodelling2017/raw/tip/Week2/checkpoints/NPZmodel_1.py\" target=\"_blank\">CHECKPOINT 1</a>\n",
    "</span>\n",
    "\n"
   ]
  },
  {
   "cell_type": "markdown",
   "metadata": {},
   "source": [
    "---\n",
    "\n",
    "### Chores (calculate timestemps, create zero arrays, etc)\n",
    "\n",
    "First we have to import a library called **numpy**. To do this, in **NPZmodel.py**, copy-paste the following at the top of the file, BEFORE the **\"# Initial conditions\"** section..."
   ]
  },
  {
   "cell_type": "code",
   "execution_count": 5,
   "metadata": {},
   "outputs": [],
   "source": [
    "# Import libraries\n",
    "import numpy as np"
   ]
  },
  {
   "cell_type": "markdown",
   "metadata": {},
   "source": [
    "In **NPZmodel.py**, copy-paste the following after the **\"# Initial conditions\"** section..."
   ]
  },
  {
   "cell_type": "code",
   "execution_count": 6,
   "metadata": {},
   "outputs": [],
   "source": [
    "#%% Chores (calculate timestemps, create zero vectors, create time vector)\n",
    "NoSTEPS = int(days / dt) # Calculates the number of steps by dividing days by dt and rounding down\n",
    "time = np.linspace(0,days,NoSTEPS) # Makes and vector array of equally spaced numbers from zero to \"days\"\n",
    "N = np.zeros((NoSTEPS,),float) # makes a vector array of zeros (size: NoSTEPS rows by ONE column)\n",
    "P = np.zeros((NoSTEPS,),float) # same as above\n",
    "Z = np.zeros((NoSTEPS,),float) # same as above"
   ]
  },
  {
   "cell_type": "markdown",
   "metadata": {},
   "source": [
    "<span class=\"run\"></span> **NPZmodel.py** again. This time it created parameters AND it created vectors (filled with zeros) for N, P, Z and time. Just for curiosity, lets inspect what happened by copy-pasting the following into the **console**.\n",
    "\n",
    "<div class=\"c2c\"></div>"
   ]
  },
  {
   "cell_type": "code",
   "execution_count": 7,
   "metadata": {},
   "outputs": [
    {
     "data": {
      "text/plain": [
       "array([0., 0., 0., 0., 0., 0., 0., 0., 0., 0., 0., 0., 0., 0., 0., 0., 0.,\n",
       "       0., 0., 0., 0., 0., 0., 0., 0., 0., 0., 0., 0., 0., 0., 0., 0., 0.,\n",
       "       0., 0., 0., 0., 0., 0., 0., 0., 0., 0., 0., 0., 0., 0., 0., 0., 0.,\n",
       "       0., 0., 0., 0., 0., 0., 0., 0., 0., 0., 0., 0., 0., 0., 0., 0., 0.,\n",
       "       0., 0., 0., 0., 0., 0., 0., 0., 0., 0., 0., 0., 0., 0., 0., 0., 0.,\n",
       "       0., 0., 0., 0., 0., 0., 0., 0., 0., 0., 0., 0., 0., 0., 0., 0., 0.,\n",
       "       0., 0., 0., 0., 0., 0., 0., 0., 0., 0., 0., 0., 0., 0., 0., 0., 0.,\n",
       "       0., 0., 0., 0., 0., 0., 0., 0., 0., 0., 0., 0., 0., 0., 0., 0., 0.,\n",
       "       0., 0., 0., 0., 0., 0., 0., 0., 0., 0., 0., 0., 0., 0., 0., 0., 0.,\n",
       "       0., 0., 0., 0., 0., 0., 0., 0., 0., 0., 0., 0., 0., 0., 0., 0., 0.,\n",
       "       0., 0., 0., 0., 0., 0., 0., 0., 0., 0., 0., 0., 0., 0., 0., 0., 0.,\n",
       "       0., 0., 0., 0., 0., 0., 0., 0., 0., 0., 0., 0., 0., 0., 0., 0., 0.,\n",
       "       0., 0., 0., 0., 0., 0., 0., 0., 0., 0., 0., 0., 0., 0., 0., 0., 0.,\n",
       "       0., 0., 0., 0., 0., 0., 0., 0., 0., 0., 0., 0., 0., 0., 0., 0., 0.,\n",
       "       0., 0., 0., 0., 0., 0., 0., 0., 0., 0., 0., 0., 0., 0., 0., 0., 0.,\n",
       "       0., 0., 0., 0., 0., 0., 0., 0., 0., 0., 0., 0., 0., 0., 0., 0., 0.,\n",
       "       0., 0., 0., 0., 0., 0., 0., 0., 0., 0., 0., 0., 0., 0., 0., 0., 0.,\n",
       "       0., 0., 0., 0., 0., 0., 0., 0., 0., 0., 0., 0., 0., 0., 0., 0., 0.,\n",
       "       0., 0., 0., 0., 0., 0., 0., 0., 0., 0., 0., 0., 0., 0., 0., 0., 0.,\n",
       "       0., 0., 0., 0., 0., 0., 0., 0., 0., 0., 0., 0., 0., 0., 0., 0., 0.,\n",
       "       0., 0., 0., 0., 0., 0., 0., 0., 0., 0., 0., 0., 0., 0., 0., 0., 0.,\n",
       "       0., 0., 0., 0., 0., 0., 0., 0., 0., 0., 0., 0., 0., 0., 0., 0., 0.,\n",
       "       0., 0., 0., 0., 0., 0., 0., 0., 0., 0., 0., 0., 0., 0., 0., 0., 0.,\n",
       "       0., 0., 0., 0., 0., 0., 0., 0., 0., 0., 0., 0., 0., 0., 0., 0., 0.,\n",
       "       0., 0., 0., 0., 0., 0., 0., 0., 0., 0., 0., 0., 0., 0., 0., 0., 0.,\n",
       "       0., 0., 0., 0., 0., 0., 0., 0., 0., 0., 0., 0., 0., 0., 0., 0., 0.,\n",
       "       0., 0., 0., 0., 0., 0., 0., 0., 0., 0., 0., 0., 0., 0., 0., 0., 0.,\n",
       "       0., 0., 0., 0., 0., 0., 0., 0., 0., 0., 0., 0., 0., 0., 0., 0., 0.,\n",
       "       0., 0., 0., 0., 0., 0., 0., 0., 0., 0., 0., 0., 0., 0., 0., 0., 0.,\n",
       "       0., 0., 0., 0., 0., 0., 0., 0., 0., 0., 0., 0., 0., 0., 0., 0., 0.,\n",
       "       0., 0., 0., 0., 0., 0., 0., 0., 0., 0., 0., 0., 0., 0., 0., 0., 0.,\n",
       "       0., 0., 0., 0., 0., 0., 0., 0., 0., 0., 0., 0., 0., 0., 0., 0., 0.,\n",
       "       0., 0., 0., 0., 0., 0., 0., 0., 0., 0., 0., 0., 0., 0., 0., 0., 0.,\n",
       "       0., 0., 0., 0., 0., 0., 0., 0., 0., 0., 0., 0., 0., 0., 0., 0., 0.,\n",
       "       0., 0., 0., 0., 0., 0., 0., 0., 0., 0., 0., 0., 0., 0., 0., 0., 0.,\n",
       "       0., 0., 0., 0., 0., 0., 0., 0., 0., 0., 0., 0., 0., 0., 0., 0., 0.,\n",
       "       0., 0., 0., 0., 0., 0., 0., 0., 0., 0., 0., 0., 0., 0., 0., 0., 0.,\n",
       "       0., 0., 0., 0., 0., 0., 0., 0., 0., 0., 0., 0., 0., 0., 0., 0., 0.,\n",
       "       0., 0., 0., 0., 0., 0., 0., 0., 0., 0., 0., 0., 0., 0., 0., 0., 0.,\n",
       "       0., 0., 0., 0., 0., 0., 0., 0., 0., 0., 0., 0., 0., 0., 0., 0., 0.,\n",
       "       0., 0., 0., 0., 0., 0., 0., 0., 0., 0., 0., 0., 0., 0., 0., 0., 0.,\n",
       "       0., 0., 0., 0., 0., 0., 0., 0., 0., 0., 0., 0., 0., 0., 0., 0., 0.,\n",
       "       0., 0., 0., 0., 0., 0., 0., 0., 0., 0., 0., 0., 0., 0., 0., 0., 0.,\n",
       "       0., 0., 0., 0., 0., 0., 0., 0., 0., 0., 0., 0., 0., 0., 0., 0., 0.,\n",
       "       0., 0., 0., 0., 0., 0., 0., 0., 0., 0., 0., 0., 0., 0., 0., 0., 0.,\n",
       "       0., 0., 0., 0., 0., 0., 0., 0., 0., 0., 0., 0., 0., 0., 0., 0., 0.,\n",
       "       0., 0., 0., 0., 0., 0., 0., 0., 0., 0., 0., 0., 0., 0., 0., 0., 0.,\n",
       "       0., 0., 0., 0., 0., 0., 0., 0., 0., 0., 0., 0., 0., 0., 0., 0., 0.,\n",
       "       0., 0., 0., 0., 0., 0., 0., 0., 0., 0., 0., 0., 0., 0., 0., 0., 0.,\n",
       "       0., 0., 0., 0., 0., 0., 0., 0., 0., 0., 0., 0., 0., 0., 0., 0., 0.,\n",
       "       0., 0., 0., 0., 0., 0., 0., 0., 0., 0., 0., 0., 0., 0., 0., 0., 0.,\n",
       "       0., 0., 0., 0., 0., 0., 0., 0., 0., 0., 0., 0., 0., 0., 0., 0., 0.,\n",
       "       0., 0., 0., 0., 0., 0., 0., 0., 0., 0., 0., 0., 0., 0., 0., 0., 0.,\n",
       "       0., 0., 0., 0., 0., 0., 0., 0., 0., 0., 0., 0., 0., 0., 0., 0., 0.,\n",
       "       0., 0., 0., 0., 0., 0., 0., 0., 0., 0., 0., 0., 0., 0., 0., 0., 0.,\n",
       "       0., 0., 0., 0., 0., 0., 0., 0., 0., 0., 0., 0., 0., 0., 0., 0., 0.,\n",
       "       0., 0., 0., 0., 0., 0., 0., 0., 0., 0., 0., 0., 0., 0., 0., 0., 0.,\n",
       "       0., 0., 0., 0., 0., 0., 0., 0., 0., 0., 0., 0., 0., 0., 0., 0., 0.,\n",
       "       0., 0., 0., 0., 0., 0., 0., 0., 0., 0., 0., 0., 0., 0.])"
      ]
     },
     "execution_count": 7,
     "metadata": {},
     "output_type": "execute_result"
    }
   ],
   "source": [
    "P"
   ]
  },
  {
   "cell_type": "markdown",
   "metadata": {
    "collapsed": true
   },
   "source": [
    "<div class=\"Q\"><br>\n",
    "\n",
    "The entire <b>P</b> array is filled with...\n",
    "\n",
    "<br><br><div class=\"qhelp\"></div></div>"
   ]
  },
  {
   "cell_type": "markdown",
   "metadata": {},
   "source": [
    "Note that you can ask python to see ONLY part of the array: \n",
    "\n",
    "<div class=\"c2c\"></div>"
   ]
  },
  {
   "cell_type": "code",
   "execution_count": 8,
   "metadata": {},
   "outputs": [
    {
     "data": {
      "text/plain": [
       "array([0., 0., 0., 0., 0., 0., 0., 0., 0., 0.])"
      ]
     },
     "execution_count": 8,
     "metadata": {},
     "output_type": "execute_result"
    }
   ],
   "source": [
    "P[:10]"
   ]
  },
  {
   "cell_type": "markdown",
   "metadata": {},
   "source": [
    "Do you know what kind of object of **P**? You can figure it out by copy-pasting the following into the **console**.\n",
    "\n",
    "<div class=\"c2c\"></div>"
   ]
  },
  {
   "cell_type": "code",
   "execution_count": 9,
   "metadata": {},
   "outputs": [
    {
     "data": {
      "text/plain": [
       "numpy.ndarray"
      ]
     },
     "execution_count": 9,
     "metadata": {},
     "output_type": "execute_result"
    }
   ],
   "source": [
    "type(P)"
   ]
  },
  {
   "cell_type": "markdown",
   "metadata": {},
   "source": [
    "A \"numpy array\" is a column of numbers. \"Numpy arrays\" allow you to do matrix algebra (like Matlab vectors). We'll use \"numpy arrays\" because they handle indexing nicely and because it is easy to make plots with them."
   ]
  },
  {
   "cell_type": "markdown",
   "metadata": {},
   "source": [
    "Do you know how long is the **P** array? ...or in simpler terms, how many rows are in the **P** column? \n",
    "\n",
    "You can figure it out by copy-pasting the following into the **console**.\n",
    "\n",
    "<div class=\"c2c\"></div>"
   ]
  },
  {
   "cell_type": "code",
   "execution_count": 10,
   "metadata": {},
   "outputs": [
    {
     "data": {
      "text/plain": [
       "1000"
      ]
     },
     "execution_count": 10,
     "metadata": {},
     "output_type": "execute_result"
    }
   ],
   "source": [
    "len(P)"
   ]
  },
  {
   "cell_type": "markdown",
   "metadata": {},
   "source": [
    "Lets inspect the other variables that we created:"
   ]
  },
  {
   "cell_type": "markdown",
   "metadata": {
    "collapsed": true
   },
   "source": [
    "<div class=\"Q\"><br>\n",
    "\n",
    "What type of object is <b>N</b>?\n",
    "\n",
    "<br><br><div class=\"qhelp\"></div></div>"
   ]
  },
  {
   "cell_type": "markdown",
   "metadata": {
    "collapsed": true
   },
   "source": [
    "<div class=\"Q\"><br>\n",
    "\n",
    "How long is the array <b>N</b>?\n",
    "\n",
    "<br><br><div class=\"qhelp\"></div></div>"
   ]
  },
  {
   "cell_type": "markdown",
   "metadata": {
    "collapsed": true
   },
   "source": [
    "<div class=\"Q\"><br>\n",
    "\n",
    "What is the value of the <b>second</b> element of the array <b>N</b>?\n",
    "\n",
    "<br><br><div class=\"qhelp\"></div></div>"
   ]
  },
  {
   "cell_type": "markdown",
   "metadata": {
    "collapsed": true
   },
   "source": [
    "<div class=\"Q\"><br>\n",
    "\n",
    "What is the value of the <b>last</b> element of the array <b>N</b>?\n",
    "\n",
    "<br><br><div class=\"qhelp\"></div></div>"
   ]
  },
  {
   "cell_type": "markdown",
   "metadata": {
    "collapsed": true
   },
   "source": [
    "<div class=\"Q\"><br>\n",
    "\n",
    "What type of object is <b>time</b>?\n",
    "\n",
    "<br><br><div class=\"qhelp\"></div></div>"
   ]
  },
  {
   "cell_type": "markdown",
   "metadata": {
    "collapsed": true
   },
   "source": [
    "<div class=\"Q\"><br>\n",
    "\n",
    "How long is the array <b>time</b>?\n",
    "\n",
    "<br><br><div class=\"qhelp\"></div></div>"
   ]
  },
  {
   "cell_type": "markdown",
   "metadata": {
    "collapsed": true
   },
   "source": [
    "<div class=\"Q\"><br>\n",
    "\n",
    "What is the value of the <b>second</b> element of the array <b>time</b>?\n",
    "\n",
    "<br><br><div class=\"qhelp\"></div></div>"
   ]
  },
  {
   "cell_type": "markdown",
   "metadata": {
    "collapsed": true
   },
   "source": [
    "<div class=\"Q\"><br>\n",
    "\n",
    "What is the value of the <b>last</b> element of the array <b>time</b>?\n",
    "\n",
    "<br><br><div class=\"qhelp\"></div></div>"
   ]
  },
  {
   "cell_type": "markdown",
   "metadata": {},
   "source": [
    "Lets inspect one of the variables from the \"Parameters\" section."
   ]
  },
  {
   "cell_type": "markdown",
   "metadata": {
    "collapsed": true
   },
   "source": [
    "<div class=\"Q\"><br>\n",
    "\n",
    "What type of object is <b>gamma</b>?\n",
    "\n",
    "<br><br><div class=\"qhelp\"></div></div>"
   ]
  },
  {
   "cell_type": "markdown",
   "metadata": {
    "collapsed": true
   },
   "source": [
    "<div class=\"Q\"><br>\n",
    "\n",
    "How many \"rows\" are contained in <b>gamma</b>? \n",
    "\n",
    "<br><br><div class=\"qhelp\"></div></div>"
   ]
  },
  {
   "cell_type": "markdown",
   "metadata": {
    "collapsed": true
   },
   "source": [
    "<div class=\"Q\"><br>\n",
    "\n",
    "What is the value of <b>gamma</b>?\n",
    "\n",
    "<br><br><div class=\"qhelp\"></div></div>"
   ]
  },
  {
   "cell_type": "markdown",
   "metadata": {},
   "source": [
    "Ok. Now that you inspected the new variables and their contents, we can continue..."
   ]
  },
  {
   "cell_type": "markdown",
   "metadata": {},
   "source": [
    "<span style=\"background-color:yellow;color:blue;font-size:17px\">\n",
    "<a href=\"https://bitbucket.org/Diego_Ibarra/aquaculturemodelling2017/raw/tip/Week2/checkpoints/NPZmodel_2.py\" target=\"_blank\">CHECKPOINT 2</a>\n",
    "</span>"
   ]
  },
  {
   "cell_type": "markdown",
   "metadata": {},
   "source": [
    "---\n",
    "\n",
    "### Initializing with initial conditions\n",
    "\n",
    "First, lets inspect our main state variables BEFORE initialization. Type the following in the **console**.\n",
    "\n",
    "<div class=\"c2c\"></div>\n"
   ]
  },
  {
   "cell_type": "code",
   "execution_count": 11,
   "metadata": {},
   "outputs": [
    {
     "name": "stdout",
     "output_type": "stream",
     "text": [
      "[0. 0. 0. 0. 0.]\n",
      "[0. 0. 0. 0. 0.]\n",
      "[0. 0. 0. 0. 0.]\n"
     ]
    }
   ],
   "source": [
    "print(N[:5])\n",
    "print(P[:5])\n",
    "print(Z[:5])"
   ]
  },
  {
   "cell_type": "markdown",
   "metadata": {},
   "source": [
    "Here we are \"printing-to-screen\" 3 lines. The first line contains the first 5 items in N, the second line contains the first 5 items in P, and the third line contains the first 5 items in Z. They are all zeros!"
   ]
  },
  {
   "cell_type": "markdown",
   "metadata": {},
   "source": [
    "Now lets \"initialize\" our model. This is simply done by replacing the zero value of each our vectors with the previously chosen \"initial conditions\". Just copy paste the following to the end of **NPZmodel.py**"
   ]
  },
  {
   "cell_type": "code",
   "execution_count": 12,
   "metadata": {},
   "outputs": [],
   "source": [
    "#%% Initializing with initial conditions\n",
    "P[0] = Pinitial\n",
    "N[0] = Ninitial\n",
    "Z[0] = Zinitial"
   ]
  },
  {
   "cell_type": "markdown",
   "metadata": {},
   "source": [
    "<span class=\"run\"></span> code, and see what happened to your variables (i.e. by typing the following in the **console**).\n",
    "<br>\n",
    "\n",
    "<div class=\"c2c\"></div>"
   ]
  },
  {
   "cell_type": "code",
   "execution_count": 13,
   "metadata": {},
   "outputs": [
    {
     "name": "stdout",
     "output_type": "stream",
     "text": [
      "[10.  0.  0.  0.  0.]\n",
      "[4. 0. 0. 0. 0.]\n",
      "[2. 0. 0. 0. 0.]\n"
     ]
    }
   ],
   "source": [
    "print(N[:5])\n",
    "print(P[:5])\n",
    "print(Z[:5])"
   ]
  },
  {
   "cell_type": "markdown",
   "metadata": {
    "collapsed": true
   },
   "source": [
    "<div class=\"Q\"><br>\n",
    "\n",
    "What is the value of the <b>FIRST</b> element of the <b>N</b>?\n",
    "\n",
    "<br><br><div class=\"qhelp\"></div></div>"
   ]
  },
  {
   "cell_type": "markdown",
   "metadata": {
    "collapsed": true
   },
   "source": [
    "<div class=\"Q\"><br>\n",
    "\n",
    "What is the value of the <b>FIRST</b> element of the <b>P</b>?\n",
    "\n",
    "<br><br><div class=\"qhelp\"></div></div>"
   ]
  },
  {
   "cell_type": "markdown",
   "metadata": {
    "collapsed": true
   },
   "source": [
    "<div class=\"Q\"><br>\n",
    "\n",
    "What is the value of the <b>FIRST</b> element of the <b>Z</b>?\n",
    "\n",
    "<br><br><div class=\"qhelp\"></div></div>"
   ]
  },
  {
   "cell_type": "markdown",
   "metadata": {},
   "source": [
    "As you can see, your state variables had been \"initialized\" with the values of Ninitial, Pinitial and Zinitial."
   ]
  },
  {
   "cell_type": "markdown",
   "metadata": {},
   "source": [
    "<span style=\"background-color:yellow;color:blue;font-size:17px\">\n",
    "<a href=\"https://bitbucket.org/Diego_Ibarra/aquaculturemodelling2017/raw/tip/Week2/checkpoints/NPZmodel_3.py\" target=\"_blank\">CHECKPOINT 3</a>\n",
    "</span>"
   ]
  },
  {
   "cell_type": "markdown",
   "metadata": {},
   "source": [
    "---\n",
    "\n",
    "### Main model\n",
    "\n",
    "Ok! Now comes the time of truth! We need to write the main model loop... where the model runs and replaces all the zeros in our NPZ vectors for the actual modeled values.\n",
    "\n",
    "Copy-paste the code below to the end of **NPZmodel.py**."
   ]
  },
  {
   "cell_type": "code",
   "execution_count": 14,
   "metadata": {},
   "outputs": [],
   "source": [
    "#%% *****************************************************************************\n",
    "# MAIN MODEL LOOP *************************************************************\n",
    "for t in range(0,NoSTEPS-1):\n",
    "    L_N = N[t]/(K+N[t]) # Calculate Limitation due to (low) nutrients on pythoplankton\n",
    "    L_P = 1-np.exp(-Lambda*P[t]) # Calculate Limitation due to (low) pythoplankton on zooplankton\n",
    "    \n",
    "    # Estimate model state at time t+1 \n",
    "    P[t+1] = P[t] + (((mu*L_N*P[t]) - (gamma*L_P*Z[t])- (mP*P[t])) * dt)\n",
    "    N[t+1] = N[t] + (((mP*P[t]) + (mZ*Z[t]) - (mu*L_N*P[t])) * dt)\n",
    "    Z[t+1] = Z[t] + (((gamma*L_P*Z[t]) - (mZ*Z[t])) * dt)\n",
    "# end of main model LOOP*******************************************************\n",
    "# *****************************************************************************"
   ]
  },
  {
   "cell_type": "markdown",
   "metadata": {},
   "source": [
    "<span class=\"run\"></span> code again, and as you can see (i.e. type the following in the **console**), the zero values of our vectors have numbers now!\n",
    "\n",
    "<br>\n",
    "<div class=\"c2c\"></div>"
   ]
  },
  {
   "cell_type": "code",
   "execution_count": 15,
   "metadata": {},
   "outputs": [
    {
     "name": "stdout",
     "output_type": "stream",
     "text": [
      "[10.          9.98521818  9.97039042  9.95551661  9.94059663]\n",
      "[4.         4.01274438 4.02552579 4.0383443  4.0512    ]\n",
      "[2.         2.00203744 2.00408379 2.00613909 2.00820337]\n"
     ]
    }
   ],
   "source": [
    "print(N[:5])\n",
    "print(P[:5])\n",
    "print(Z[:5])"
   ]
  },
  {
   "cell_type": "markdown",
   "metadata": {},
   "source": [
    "Can you see that the zeros are gone? Actually, rather than just taking a look at the first 5 values, lets take a look at the entire **P** array.\n",
    "\n",
    "\n",
    "<div class=\"c2c\"></div>"
   ]
  },
  {
   "cell_type": "code",
   "execution_count": 16,
   "metadata": {},
   "outputs": [
    {
     "data": {
      "text/plain": [
       "array([ 4.        ,  4.01274438,  4.02552579,  4.0383443 ,  4.0512    ,\n",
       "        4.06409295,  4.07702323,  4.08999092,  4.10299609,  4.11603881,\n",
       "        4.12911916,  4.14223722,  4.15539306,  4.16858674,  4.18181835,\n",
       "        4.19508796,  4.20839564,  4.22174147,  4.23512551,  4.24854784,\n",
       "        4.26200853,  4.27550765,  4.28904527,  4.30262148,  4.31623632,\n",
       "        4.32988989,  4.34358224,  4.35731345,  4.37108359,  4.38489272,\n",
       "        4.39874092,  4.41262825,  4.42655479,  4.4405206 ,  4.45452575,\n",
       "        4.46857031,  4.48265435,  4.49677792,  4.5109411 ,  4.52514396,\n",
       "        4.53938656,  4.55366896,  4.56799123,  4.58235344,  4.59675565,\n",
       "        4.61119792,  4.62568032,  4.64020291,  4.65476575,  4.6693689 ,\n",
       "        4.68401243,  4.6986964 ,  4.71342086,  4.72818588,  4.74299152,\n",
       "        4.75783783,  4.77272488,  4.78765273,  4.80262142,  4.81763102,\n",
       "        4.83268159,  4.84777318,  4.86290584,  4.87807964,  4.89329462,\n",
       "        4.90855084,  4.92384835,  4.93918721,  4.95456747,  4.96998917,\n",
       "        4.98545237,  5.00095712,  5.01650347,  5.03209146,  5.04772115,\n",
       "        5.06339258,  5.0791058 ,  5.09486086,  5.11065779,  5.12649665,\n",
       "        5.14237747,  5.1583003 ,  5.17426519,  5.19027217,  5.20632128,\n",
       "        5.22241257,  5.23854606,  5.25472181,  5.27093984,  5.2872002 ,\n",
       "        5.30350291,  5.31984802,  5.33623556,  5.35266555,  5.36913803,\n",
       "        5.38565303,  5.40221059,  5.41881072,  5.43545346,  5.45213883,\n",
       "        5.46886686,  5.48563757,  5.50245099,  5.51930714,  5.53620604,\n",
       "        5.55314771,  5.57013217,  5.58715943,  5.60422952,  5.62134245,\n",
       "        5.63849823,  5.65569688,  5.6729384 ,  5.69022281,  5.70755012,\n",
       "        5.72492033,  5.74233346,  5.7597895 ,  5.77728846,  5.79483034,\n",
       "        5.81241514,  5.83004287,  5.84771352,  5.86542708,  5.88318356,\n",
       "        5.90098294,  5.91882522,  5.93671039,  5.95463843,  5.97260934,\n",
       "        5.99062309,  6.00867968,  6.02677908,  6.04492127,  6.06310624,\n",
       "        6.08133396,  6.0996044 ,  6.11791754,  6.13627334,  6.15467179,\n",
       "        6.17311284,  6.19159646,  6.21012262,  6.22869127,  6.24730237,\n",
       "        6.26595589,  6.28465178,  6.30338998,  6.32217046,  6.34099315,\n",
       "        6.35985801,  6.37876498,  6.397714  ,  6.41670501,  6.43573795,\n",
       "        6.45481275,  6.47392935,  6.49308767,  6.51228763,  6.53152918,\n",
       "        6.55081222,  6.57013668,  6.58950247,  6.60890951,  6.6283577 ,\n",
       "        6.64784696,  6.66737719,  6.68694829,  6.70656017,  6.72621271,\n",
       "        6.74590581,  6.76563937,  6.78541327,  6.80522738,  6.8250816 ,\n",
       "        6.8449758 ,  6.86490986,  6.88488364,  6.90489701,  6.92494983,\n",
       "        6.94504197,  6.96517329,  6.98534362,  7.00555283,  7.02580075,\n",
       "        7.04608724,  7.06641212,  7.08677522,  7.10717639,  7.12761544,\n",
       "        7.14809219,  7.16860647,  7.18915808,  7.20974683,  7.23037252,\n",
       "        7.25103496,  7.27173393,  7.29246924,  7.31324065,  7.33404796,\n",
       "        7.35489094,  7.37576935,  7.39668297,  7.41763155,  7.43861484,\n",
       "        7.45963261,  7.48068459,  7.50177051,  7.52289012,  7.54404314,\n",
       "        7.56522929,  7.58644829,  7.60769985,  7.62898367,  7.65029945,\n",
       "        7.67164688,  7.69302564,  7.71443542,  7.73587588,  7.75734669,\n",
       "        7.77884752,  7.800378  ,  7.82193779,  7.84352652,  7.86514383,\n",
       "        7.88678933,  7.90846265,  7.93016338,  7.95189113,  7.9736455 ,\n",
       "        7.99542606,  8.01723239,  8.03906407,  8.06092064,  8.08280166,\n",
       "        8.10470667,  8.12663521,  8.1485868 ,  8.17056095,  8.19255718,\n",
       "        8.21457497,  8.23661381,  8.25867318,  8.28075255,  8.30285138,\n",
       "        8.3249691 ,  8.34710516,  8.36925899,  8.39142999,  8.41361757,\n",
       "        8.43582112,  8.45804002,  8.48027365,  8.50252136,  8.52478249,\n",
       "        8.54705639,  8.56934236,  8.59163972,  8.61394777,  8.63626578,\n",
       "        8.65859302,  8.68092876,  8.70327222,  8.72562265,  8.74797925,\n",
       "        8.77034122,  8.79270775,  8.81507801,  8.83745114,  8.8598263 ,\n",
       "        8.88220259,  8.90457913,  8.92695501,  8.9493293 ,  8.97170106,\n",
       "        8.99406933,  9.01643312,  9.03879146,  9.06114331,  9.08348765,\n",
       "        9.10582343,  9.12814958,  9.150465  ,  9.1727686 ,  9.19505924,\n",
       "        9.21733577,  9.23959702,  9.26184181,  9.28406891,  9.3062771 ,\n",
       "        9.32846512,  9.35063169,  9.37277551,  9.39489526,  9.41698958,\n",
       "        9.43905711,  9.46109645,  9.48310617,  9.50508485,  9.52703099,\n",
       "        9.54894311,  9.57081968,  9.59265915,  9.61445994,  9.63622045,\n",
       "        9.65793906,  9.67961408,  9.70124385,  9.72282664,  9.7443607 ,\n",
       "        9.76584425,  9.78727549,  9.80865258,  9.82997364,  9.85123679,\n",
       "        9.87244008,  9.89358155,  9.91465921,  9.93567102,  9.95661492,\n",
       "        9.97748882,  9.99829057, 10.01901803, 10.03966898, 10.06024119,\n",
       "       10.0807324 , 10.1011403 , 10.12146254, 10.14169676, 10.16184053,\n",
       "       10.18189141, 10.20184691, 10.22170451, 10.24146166, 10.26111575,\n",
       "       10.28066415, 10.3001042 , 10.31943318, 10.33864836, 10.35774696,\n",
       "       10.37672616, 10.39558311, 10.41431493, 10.43291868, 10.45139142,\n",
       "       10.46973014, 10.48793184, 10.50599343, 10.52391184, 10.54168393,\n",
       "       10.55930656, 10.57677653, 10.59409062, 10.61124561, 10.62823821,\n",
       "       10.64506513, 10.66172306, 10.67820864, 10.69451851, 10.7106493 ,\n",
       "       10.72659759, 10.74235999, 10.75793305, 10.77331334, 10.78849742,\n",
       "       10.80348182, 10.81826309, 10.83283778, 10.84720243, 10.8613536 ,\n",
       "       10.87528784, 10.88900173, 10.90249187, 10.91575486, 10.92878733,\n",
       "       10.94158596, 10.95414744, 10.96646849, 10.9785459 , 10.99037648,\n",
       "       11.00195711, 11.01328471, 11.02435626, 11.03516882, 11.04571952,\n",
       "       11.05600555, 11.06602418, 11.0757728 , 11.08524885, 11.09444989,\n",
       "       11.10337358, 11.11201769, 11.1203801 , 11.1284588 , 11.13625193,\n",
       "       11.14375772, 11.15097457, 11.15790099, 11.16453566, 11.17087739,\n",
       "       11.17692514, 11.18267803, 11.18813533, 11.1932965 , 11.19816113,\n",
       "       11.20272899, 11.20700003, 11.21097436, 11.21465226, 11.2180342 ,\n",
       "       11.2211208 , 11.22391287, 11.22641139, 11.22861752, 11.23053258,\n",
       "       11.23215806, 11.23349563, 11.23454712, 11.2353145 , 11.23579993,\n",
       "       11.23600571, 11.23593428, 11.23558825, 11.23497034, 11.23408342,\n",
       "       11.23293049, 11.23151466, 11.22983918, 11.22790738, 11.2257227 ,\n",
       "       11.22328869, 11.22060898, 11.21768727, 11.21452735, 11.21113307,\n",
       "       11.20750833, 11.20365709, 11.19958336, 11.19529118, 11.19078463,\n",
       "       11.18606779, 11.18114478, 11.17601972, 11.17069673, 11.16517994,\n",
       "       11.15947347, 11.1535814 , 11.14750784, 11.14125682, 11.13483238,\n",
       "       11.1282385 , 11.12147916, 11.11455824, 11.10747963, 11.10024713,\n",
       "       11.09286452, 11.08533549, 11.0776637 , 11.06985273, 11.06190612,\n",
       "       11.05382731, 11.04561972, 11.03728666, 11.02883139, 11.02025711,\n",
       "       11.01156693, 11.0027639 , 10.993851  , 10.98483113, 10.97570713,\n",
       "       10.96648176, 10.95715772, 10.94773761, 10.93822401, 10.92861937,\n",
       "       10.91892613, 10.90914663, 10.89928314, 10.88933788, 10.87931299,\n",
       "       10.86921055, 10.8590326 , 10.84878108, 10.8384579 , 10.82806489,\n",
       "       10.81760384, 10.80707648, 10.79648446, 10.78582942, 10.77511291,\n",
       "       10.76433645, 10.7535015 , 10.74260947, 10.73166173, 10.7206596 ,\n",
       "       10.70960437, 10.69849725, 10.68733946, 10.67613212, 10.66487637,\n",
       "       10.65357326, 10.64222385, 10.63082911, 10.61939003, 10.60790754,\n",
       "       10.59638253, 10.58481586, 10.57320839, 10.56156091, 10.54987421,\n",
       "       10.53814904, 10.52638613, 10.51458616, 10.50274983, 10.49087778,\n",
       "       10.47897064, 10.46702902, 10.45505351, 10.44304466, 10.43100303,\n",
       "       10.41892913, 10.40682349, 10.39468658, 10.38251888, 10.37032085,\n",
       "       10.35809293, 10.34583554, 10.33354909, 10.32123399, 10.30889062,\n",
       "       10.29651933, 10.28412051, 10.27169448, 10.25924158, 10.24676214,\n",
       "       10.23425647, 10.22172487, 10.20916764, 10.19658505, 10.18397738,\n",
       "       10.17134489, 10.15868784, 10.14600649, 10.13330106, 10.1205718 ,\n",
       "       10.10781893, 10.09504266, 10.08224322, 10.0694208 , 10.05657562,\n",
       "       10.04370785, 10.03081769, 10.01790533, 10.00497095,  9.99201471,\n",
       "        9.97903678,  9.96603734,  9.95301653,  9.93997453,  9.92691146,\n",
       "        9.9138275 ,  9.90072277,  9.88759743,  9.8744516 ,  9.86128543,\n",
       "        9.84809905,  9.83489257,  9.82166614,  9.80841987,  9.79515388,\n",
       "        9.78186829,  9.76856322,  9.75523878,  9.74189508,  9.72853224,\n",
       "        9.71515035,  9.70174953,  9.68832988,  9.6748915 ,  9.66143449,\n",
       "        9.64795896,  9.63446499,  9.62095269,  9.60742216,  9.59387348,\n",
       "        9.58030675,  9.56672206,  9.5531195 ,  9.53949916,  9.52586113,\n",
       "        9.51220551,  9.49853237,  9.4848418 ,  9.47113389,  9.45740872,\n",
       "        9.44366639,  9.42990696,  9.41613054,  9.40233719,  9.388527  ,\n",
       "        9.37470005,  9.36085643,  9.34699622,  9.33311949,  9.31922633,\n",
       "        9.30531682,  9.29139104,  9.27744907,  9.26349098,  9.24951686,\n",
       "        9.23552679,  9.22152085,  9.20749911,  9.19346165,  9.17940856,\n",
       "        9.16533991,  9.15125579,  9.13715626,  9.12304142,  9.10891133,\n",
       "        9.09476609,  9.08060576,  9.06643043,  9.05224017,  9.03803507,\n",
       "        9.02381521,  9.00958066,  8.99533151,  8.98106783,  8.96678972,\n",
       "        8.95249724,  8.93819047,  8.92386951,  8.90953442,  8.8951853 ,\n",
       "        8.88082222,  8.86644527,  8.85205452,  8.83765007,  8.82323198,\n",
       "        8.80880036,  8.79435527,  8.7798968 ,  8.76542505,  8.75094008,\n",
       "        8.73644199,  8.72193086,  8.70740678,  8.69286983,  8.6783201 ,\n",
       "        8.66375767,  8.64918264,  8.63459508,  8.61999508,  8.60538274,\n",
       "        8.59075814,  8.57612138,  8.56147253,  8.54681168,  8.53213894,\n",
       "        8.51745438,  8.5027581 ,  8.48805019,  8.47333074,  8.45859984,\n",
       "        8.44385758,  8.42910406,  8.41433937,  8.39956361,  8.38477685,\n",
       "        8.36997921,  8.35517077,  8.34035163,  8.32552189,  8.31068163,\n",
       "        8.29583096,  8.28096997,  8.26609877,  8.25121744,  8.23632608,\n",
       "        8.2214248 ,  8.20651369,  8.19159285,  8.17666238,  8.16172238,\n",
       "        8.14677295,  8.13181419,  8.11684621,  8.1018691 ,  8.08688296,\n",
       "        8.0718879 ,  8.05688403,  8.04187143,  8.02685023,  8.01182052,\n",
       "        7.9967824 ,  7.98173599,  7.96668138,  7.95161869,  7.93654802,\n",
       "        7.92146947,  7.90638315,  7.89128918,  7.87618765,  7.86107868,\n",
       "        7.84596237,  7.83083884,  7.8157082 ,  7.80057054,  7.78542599,\n",
       "        7.77027466,  7.75511665,  7.73995208,  7.72478106,  7.7096037 ,\n",
       "        7.69442011,  7.67923041,  7.66403471,  7.64883313,  7.63362578,\n",
       "        7.61841277,  7.60319422,  7.58797024,  7.57274096,  7.55750648,\n",
       "        7.54226692,  7.52702241,  7.51177305,  7.49651897,  7.48126028,\n",
       "        7.4659971 ,  7.45072955,  7.43545775,  7.42018182,  7.40490188,\n",
       "        7.38961805,  7.37433045,  7.3590392 ,  7.34374442,  7.32844623,\n",
       "        7.31314476,  7.29784013,  7.28253245,  7.26722186,  7.25190848,\n",
       "        7.23659242,  7.22127382,  7.2059528 ,  7.19062948,  7.17530398,\n",
       "        7.15997644,  7.14464697,  7.12931571,  7.11398278,  7.0986483 ,\n",
       "        7.08331241,  7.06797522,  7.05263687,  7.03729749,  7.02195719,\n",
       "        7.00661612,  6.99127439,  6.97593213,  6.96058949,  6.94524657,\n",
       "        6.92990352,  6.91456046,  6.89921752,  6.88387484,  6.86853253,\n",
       "        6.85319074,  6.8378496 ,  6.82250922,  6.80716975,  6.79183132,\n",
       "        6.77649406,  6.76115809,  6.74582356,  6.73049059,  6.71515932,\n",
       "        6.69982988,  6.68450239,  6.66917701,  6.65385384,  6.63853304,\n",
       "        6.62321473,  6.60789905,  6.59258614,  6.57727611,  6.56196911,\n",
       "        6.54666528,  6.53136474,  6.51606764,  6.5007741 ,  6.48548426,\n",
       "        6.47019826,  6.45491622,  6.4396383 ,  6.42436461,  6.4090953 ,\n",
       "        6.39383049,  6.37857034,  6.36331496,  6.3480645 ,  6.3328191 ,\n",
       "        6.31757888,  6.30234398,  6.28711455,  6.27189071,  6.2566726 ,\n",
       "        6.24146036,  6.22625412,  6.21105402,  6.19586019,  6.18067278,\n",
       "        6.16549191,  6.15031773,  6.13515036,  6.11998995,  6.10483663,\n",
       "        6.08969054,  6.07455181,  6.05942058,  6.04429698,  6.02918116,\n",
       "        6.01407324,  5.99897336,  5.98388166,  5.96879828,  5.95372335,\n",
       "        5.938657  ,  5.92359937,  5.9085506 ,  5.89351082,  5.87848016,\n",
       "        5.86345877,  5.84844677,  5.83344431,  5.81845151,  5.80346852,\n",
       "        5.78849546,  5.77353247,  5.75857969,  5.74363724,  5.72870527,\n",
       "        5.71378391,  5.69887328,  5.68397353,  5.66908479,  5.65420719,\n",
       "        5.63934087,  5.62448595,  5.60964257,  5.59481086,  5.57999096,\n",
       "        5.56518299,  5.55038709,  5.53560339,  5.52083202,  5.50607312,\n",
       "        5.49132681,  5.47659322,  5.46187248,  5.44716474,  5.4324701 ,\n",
       "        5.41778871,  5.4031207 ,  5.38846618,  5.3738253 ,  5.35919818,\n",
       "        5.34458495,  5.32998573,  5.31540066,  5.30082986,  5.28627345,\n",
       "        5.27173157,  5.25720435,  5.2426919 ,  5.22819435,  5.21371183,\n",
       "        5.19924447,  5.18479238,  5.1703557 ,  5.15593454,  5.14152903,\n",
       "        5.1271393 ,  5.11276546,  5.09840764,  5.08406596,  5.06974054,\n",
       "        5.0554315 ,  5.04113897,  5.02686306,  5.0126039 ,  4.9983616 ,\n",
       "        4.98413628,  4.96992806,  4.95573707,  4.94156341,  4.9274072 ,\n",
       "        4.91326857,  4.89914762,  4.88504448,  4.87095926,  4.85689207,\n",
       "        4.84284303,  4.82881225,  4.81479985,  4.80080594,  4.78683063,\n",
       "        4.77287404,  4.75893627,  4.74501744,  4.73111765,  4.71723702,\n",
       "        4.70337566,  4.68953367,  4.67571117,  4.66190826,  4.64812504,\n",
       "        4.63436163,  4.62061814,  4.60689466,  4.5931913 ,  4.57950817,\n",
       "        4.56584537,  4.552203  ,  4.53858117,  4.52497998,  4.51139953,\n",
       "        4.49783992,  4.48430125,  4.47078363,  4.45728714,  4.44381189,\n",
       "        4.43035798,  4.41692551,  4.40351456,  4.39012524,  4.37675765,\n",
       "        4.36341187,  4.350088  ,  4.33678614,  4.32350637,  4.3102488 ,\n",
       "        4.29701351,  4.28380059,  4.27061013,  4.25744222,  4.24429696,\n",
       "        4.23117442,  4.2180747 ,  4.20499789,  4.19194407,  4.17891332,\n",
       "        4.16590573,  4.15292139,  4.13996038,  4.12702277,  4.11410867,\n",
       "        4.10121813,  4.08835125,  4.07550811,  4.06268878,  4.04989335,\n",
       "        4.03712188,  4.02437447,  4.01165118,  3.99895209,  3.98627728,\n",
       "        3.97362682,  3.96100078,  3.94839924,  3.93582227,  3.92326994,\n",
       "        3.91074232,  3.89823948,  3.88576149,  3.87330842,  3.86088033,\n",
       "        3.8484773 ,  3.83609939,  3.82374667,  3.81141919,  3.79911703,\n",
       "        3.78684025,  3.77458891,  3.76236306,  3.75016279,  3.73798813,\n",
       "        3.72583916,  3.71371593,  3.7016185 ,  3.68954692,  3.67750126,\n",
       "        3.66548157,  3.65348791,  3.64152032,  3.62957886,  3.61766359])"
      ]
     },
     "execution_count": 16,
     "metadata": {},
     "output_type": "execute_result"
    }
   ],
   "source": [
    "P"
   ]
  },
  {
   "cell_type": "markdown",
   "metadata": {
    "collapsed": true
   },
   "source": [
    "<div class=\"Q\"><br>\n",
    "\n",
    "What are the values of <b>P</b>?\n",
    "\n",
    "<br><br><div class=\"qhelp\"></div></div>"
   ]
  },
  {
   "cell_type": "markdown",
   "metadata": {
    "collapsed": true
   },
   "source": [
    "<div class=\"Q\"><br>\n",
    "\n",
    "What are the values of <b>N</b>?\n",
    "\n",
    "<br><br><div class=\"qhelp\"></div></div>"
   ]
  },
  {
   "cell_type": "markdown",
   "metadata": {
    "collapsed": true
   },
   "source": [
    "<div class=\"Q\"><br>\n",
    "\n",
    "What are the values of <b>Z</b>?\n",
    "\n",
    "<br><br><div class=\"qhelp\"></div></div>"
   ]
  },
  {
   "cell_type": "markdown",
   "metadata": {
    "collapsed": true
   },
   "source": [
    "<div class=\"Q\"><br>\n",
    "\n",
    "How many times was the code inside the \"MAIN MODEL LOOP\" executed?\n",
    "\n",
    "<br><br><div class=\"qhelp\"></div></div>"
   ]
  },
  {
   "cell_type": "markdown",
   "metadata": {},
   "source": [
    "<span style=\"background-color:yellow;color:blue;font-size:17px\">\n",
    "<a href=\"https://bitbucket.org/Diego_Ibarra/aquaculturemodelling2017/raw/tip/Week2/checkpoints/NPZmodel_4.py\" target=\"_blank\">CHECKPOINT 4</a>\n",
    "</span>"
   ]
  },
  {
   "cell_type": "markdown",
   "metadata": {},
   "source": [
    "---\n",
    "\n",
    "### Vizualization\n",
    "\n",
    "Lets make some plots! But first we need to import a plotting library (i.e. matplotlib). To do so, copy-paste the following at the top of **NPZmodel.py**... right on the **\"# Import libraries\"** section:"
   ]
  },
  {
   "cell_type": "code",
   "execution_count": 17,
   "metadata": {},
   "outputs": [],
   "source": [
    "import matplotlib.pyplot as plt"
   ]
  },
  {
   "cell_type": "markdown",
   "metadata": {},
   "source": [
    "Now copy-paste the following at the bottom of **NPZmodel.py**... and <span class=\"run\"></span> code."
   ]
  },
  {
   "cell_type": "code",
   "execution_count": 18,
   "metadata": {},
   "outputs": [
    {
     "data": {
      "image/png": "[encoded data removed]",
      "text/plain": [
       "<Figure size 432x288 with 1 Axes>"
      ]
     },
     "metadata": {
      "needs_background": "light"
     },
     "output_type": "display_data"
    }
   ],
   "source": [
    "#%% Plotting\n",
    "fig, (ax) = plt.subplots(1,1)\n",
    "ax.plot(time,N,'b-')\n",
    "ax.plot(time,P,'g-')\n",
    "ax.plot(time,Z,'r-')\n",
    "ax.set_xlabel('Time (days)')\n",
    "ax.set_ylabel('Nitrogen (mmol N m$^{-3}$)')\n",
    "ax.set_title('NPZ Model Simulation')\n",
    "plt.legend(['N','P','Z'])\n",
    "plt.show()"
   ]
  },
  {
   "cell_type": "markdown",
   "metadata": {},
   "source": [
    "Lets take a look at the plotting code above:\n",
    "\n",
    "The 1st line of the plotting code `fig, (ax) = plt.subplots(1,1)` generates a figure and an axis inside the figure. For now they are both empty.\n",
    "\n",
    "The 2nd line `ax.plot(time,N,'b-')` plots `time` versus `N` using a blue line.\n",
    "\n",
    "The 3rd line `ax.plot(time,P,'g-')` plots `time` versus `P` using a green line.\n",
    "\n",
    "The 4rd line `ax.plot(time,Z,'r-')` plots `time` versus `Z` using a red line.\n",
    "\n",
    "The 5th line `ax.set_xlabel('Time (days)')` makes the label on the x axis.\n",
    "\n",
    "The 6th line `ax.set_ylabel('Nitrogen (mmol N m$^{-3}$)')` makes the label on the y axis .\n",
    "\n",
    "The 7th line `ax.set_title('NPZ Model Simulation')` makes the figure title.\n",
    "\n",
    "The 8th line `plt.legend(['N','P','Z'])` makes the legends.\n",
    "\n",
    "The last line `plt.show()` displays the figure.\n",
    "\n",
    "Now lets take a close look at the figure and inspect the ecosystem dynamics that it show:"
   ]
  },
  {
   "cell_type": "markdown",
   "metadata": {
    "collapsed": true
   },
   "source": [
    "<div class=\"Q\"><br>\n",
    "\n",
    "What happens to phytoplankton (**P**) over time?\n",
    "\n",
    "<br><br><div class=\"qhelp\"></div></div>"
   ]
  },
  {
   "cell_type": "markdown",
   "metadata": {
    "collapsed": true
   },
   "source": [
    "<div class=\"Q\"><br>\n",
    "\n",
    "What happens to the nutrients (**N**) over time?\n",
    "\n",
    "<br><br><div class=\"qhelp\"></div></div>"
   ]
  },
  {
   "cell_type": "markdown",
   "metadata": {
    "collapsed": true
   },
   "source": [
    "<div class=\"Q\"><br>\n",
    "\n",
    "What happens to zooplankton (**Z**) over time?\n",
    "\n",
    "<br><br><div class=\"qhelp\"></div></div>"
   ]
  },
  {
   "cell_type": "markdown",
   "metadata": {},
   "source": [
    "<span style=\"background-color:yellow;color:blue;font-size:17px\">\n",
    "<a href=\"https://bitbucket.org/Diego_Ibarra/aquaculturemodelling2017/raw/tip/Week2/checkpoints/NPZmodel_5.py\" target=\"_blank\">CHECKPOINT 5</a>\n",
    "</span>"
   ]
  },
  {
   "cell_type": "markdown",
   "metadata": {},
   "source": [
    "---\n",
    "\n",
    "### Quality control\n",
    "\n",
    "One of the ways to ensure you model is working correctly is to compute the **\"Total Nitrogen of the System\"**, which should remain constant over time; that is, no mass should be created nor destroyed during the model run.\n",
    "\n",
    "First, lets create another zero vector for Total Nitrogen (`TotNit`). Copy-paste the following at the bottom of the **\"Chores\"** section:"
   ]
  },
  {
   "cell_type": "code",
   "execution_count": 19,
   "metadata": {},
   "outputs": [],
   "source": [
    "TotNit = np.zeros((NoSTEPS,),float) # same as above"
   ]
  },
  {
   "cell_type": "markdown",
   "metadata": {},
   "source": [
    "Then, copy-paste at the bottom of the **\"# MAIN MODEL LOOP\"** the following:\n",
    "\n",
    "`TotNit[t+1] = P[t+1] + N[t+1] + Z[t+1]`\n",
    "    \n",
    "So it looks like this..."
   ]
  },
  {
   "cell_type": "code",
   "execution_count": 20,
   "metadata": {},
   "outputs": [],
   "source": [
    "#%% MAIN MODEL LOOP *************************************************************\n",
    "for t in range(0,NoSTEPS-1):\n",
    "    L_N = N[t]/(K+N[t]) # Calculate Limitation due to (low) nutrients on pythoplankton\n",
    "    L_P = 1-np.exp(-Lambda*P[t]) # Calculate Limitation due to (low) pythoplankton on zooplankton\n",
    "    \n",
    "    # Estimate model state at time t+1 \n",
    "    P[t+1] = P[t] + (((mu*L_N*P[t]) - (gamma*L_P*Z[t])- (mP*P[t])) * dt)\n",
    "    N[t+1] = N[t] + (((mP*P[t]) + (mZ*Z[t]) - (mu*L_N*P[t])) * dt)\n",
    "    Z[t+1] = Z[t] + (((gamma*L_P*Z[t]) - (mZ*Z[t])) * dt)\n",
    "    TotNit[t+1] = P[t+1] + N[t+1] + Z[t+1]"
   ]
  },
  {
   "cell_type": "markdown",
   "metadata": {},
   "source": [
    "Finally lets plot by adding TotNit to the **\"Plotting\"** section, as shown below:"
   ]
  },
  {
   "cell_type": "code",
   "execution_count": 21,
   "metadata": {},
   "outputs": [
    {
     "data": {
      "image/png": "[encoded data removed]",
      "text/plain": [
       "<Figure size 432x288 with 1 Axes>"
      ]
     },
     "metadata": {
      "needs_background": "light"
     },
     "output_type": "display_data"
    }
   ],
   "source": [
    "#%% Plotting\n",
    "fig, (ax) = plt.subplots(1,1)\n",
    "ax.plot(time,N,'b-')\n",
    "ax.plot(time,P,'g-')\n",
    "ax.plot(time,Z,'r-')\n",
    "ax.plot(time,TotNit,'c-')\n",
    "ax.set_xlabel('Time (days)')\n",
    "ax.set_ylabel('Nitrogen (mmol N m$^{-3}$)')\n",
    "ax.set_title('NPZ Model Simulation')\n",
    "plt.legend(['N','P','Z','TotNit'])\n",
    "plt.show()"
   ]
  },
  {
   "cell_type": "markdown",
   "metadata": {},
   "source": [
    "You probably should also take a look at the values of `TotNit`. "
   ]
  },
  {
   "cell_type": "markdown",
   "metadata": {
    "collapsed": true
   },
   "source": [
    "<div class=\"Q\"><br>\n",
    "\n",
    "What happens to the Total Nitrogen in the System (**TotNit**) over time?\n",
    "\n",
    "<br><br><div class=\"qhelp\"></div></div>"
   ]
  },
  {
   "cell_type": "markdown",
   "metadata": {},
   "source": [
    "<span style=\"background-color:yellow;color:blue;font-size:17px\">\n",
    "<a href=\"https://bitbucket.org/Diego_Ibarra/aquaculturemodelling2017/raw/tip/Week2/checkpoints/NPZmodel_6.py\" target=\"_blank\">CHECKPOINT 6</a>\n",
    "</span>"
   ]
  },
  {
   "cell_type": "markdown",
   "metadata": {},
   "source": [
    "---\n",
    "\n",
    "### Ancillary diagnostic variables\n",
    "\n",
    "Currently, we compute the limitations $L^N$ and $L^P$ every time step, but then we overwrite them. To better understand the dynamics of the ecosystem, we need to keep track of the evolution of $L^N$ and $L^P$ over time.  \n",
    "\n",
    "First, lets create another zero vector for $L^N$ and $L^P$. Copy-paste the following at the bottom of the **\"Chores\"** section:"
   ]
  },
  {
   "cell_type": "code",
   "execution_count": 22,
   "metadata": {},
   "outputs": [],
   "source": [
    "L_N = np.zeros((NoSTEPS,),float) # same as above\n",
    "L_P = np.zeros((NoSTEPS,),float) # same as above"
   ]
  },
  {
   "cell_type": "markdown",
   "metadata": {},
   "source": [
    "Then, modify **\"# MAIN MODEL LOOP\"** (by adding **[t]** after the **L_N** and **L_P**) so that your code looks as below:"
   ]
  },
  {
   "cell_type": "code",
   "execution_count": 23,
   "metadata": {},
   "outputs": [],
   "source": [
    "#%% MAIN MODEL LOOP *************************************************************\n",
    "for t in range(0,NoSTEPS-1):\n",
    "    L_N[t] = N[t]/(K+N[t]) # Calculate Limitation due to (low) nutrients on pythoplankton\n",
    "    L_P[t] = 1-np.exp(-Lambda*P[t]) # Calculate Limitation due to (low) pythoplankton on zooplankton\n",
    "    \n",
    "    # Estimate model state at time t+1 \n",
    "    P[t+1] = P[t] + (((mu*L_N[t]*P[t]) - (gamma*L_P[t]*Z[t])- (mP*P[t])) * dt)\n",
    "    N[t+1] = N[t] + (((mP*P[t]) + (mZ*Z[t]) - (mu*L_N[t]*P[t])) * dt)\n",
    "    Z[t+1] = Z[t] + (((gamma*L_P[t]*Z[t]) - (mZ*Z[t])) * dt)\n",
    "    TotNit[t+1] = P[t+1] + N[t+1] + Z[t+1]"
   ]
  },
  {
   "cell_type": "markdown",
   "metadata": {},
   "source": [
    "Now, lets plot the evolution of the limitations by copy-pasting the following at the bottom of the **\"Plotting\"** section: \n",
    "\n",
    "<span class=\"run\"></span> your code."
   ]
  },
  {
   "cell_type": "code",
   "execution_count": 24,
   "metadata": {},
   "outputs": [
    {
     "data": {
      "image/png": "[encoded data removed]",
      "text/plain": [
       "<Figure size 432x288 with 1 Axes>"
      ]
     },
     "metadata": {
      "needs_background": "light"
     },
     "output_type": "display_data"
    }
   ],
   "source": [
    "fig2, (ax) = plt.subplots(1,1)\n",
    "ax.plot(time,L_N,'g-')\n",
    "ax.plot(time,L_P,'r-')\n",
    "ax.set_xlabel('Time (days)')\n",
    "ax.set_ylabel('Limitation (dimensionless)')\n",
    "ax.set_title('Time evolution of Limitations')\n",
    "plt.legend(['L_N: Lim of N on Phy','L_P: Lim of P on Zoo','TotNit'])\n",
    "plt.show()"
   ]
  },
  {
   "cell_type": "markdown",
   "metadata": {
    "collapsed": true
   },
   "source": [
    "<div class=\"Q\"><br>\n",
    "\n",
    "In **day 1**, the value of L_N is high (close to 1). What does this mean?\n",
    "\n",
    "<br><br><div class=\"qhelp\"></div></div>"
   ]
  },
  {
   "cell_type": "markdown",
   "metadata": {
    "collapsed": true
   },
   "source": [
    "<div class=\"Q\"><br>\n",
    "\n",
    "In **day 1**, the value of L_P is low (close-ish to 0). What does this mean?\n",
    "\n",
    "<br><br><div class=\"qhelp\"></div></div>"
   ]
  },
  {
   "cell_type": "markdown",
   "metadata": {
    "collapsed": true
   },
   "source": [
    "<div class=\"Q\"><br>\n",
    "\n",
    "In **day 5**, the value of L_N is low (close-ish to 0). What does this mean?\n",
    "\n",
    "<br><br><div class=\"qhelp\"></div></div>"
   ]
  },
  {
   "cell_type": "markdown",
   "metadata": {
    "collapsed": true
   },
   "source": [
    "<div class=\"Q\"><br>\n",
    "\n",
    "In **day 5**, the value of L_P is high (close-ish to 1). What does this mean?\n",
    "\n",
    "<br><br><div class=\"qhelp\"></div></div>"
   ]
  },
  {
   "cell_type": "markdown",
   "metadata": {
    "collapsed": true
   },
   "source": [
    "<div class=\"Q\"><br>\n",
    "\n",
    "If you want to dump a truck-load of nutrients into the water to increase the biomass of phytoplankton, what day should you it to cause the largest effect on phytoplankton?\n",
    "\n",
    "<br><br><div class=\"qhelp\"></div></div>"
   ]
  },
  {
   "cell_type": "markdown",
   "metadata": {},
   "source": [
    "<span style=\"background-color:yellow;color:blue;font-size:17px\">\n",
    "<a href=\"https://bitbucket.org/Diego_Ibarra/aquaculturemodelling2017/raw/tip/Week2/checkpoints/NPZmodel_7.py\" target=\"_blank\">CHECKPOINT 7</a>\n",
    "</span>"
   ]
  },
  {
   "cell_type": "markdown",
   "metadata": {},
   "source": [
    "---\n",
    "\n",
    "### Adding sunlight\n",
    "\n",
    "To add a bit more realism, we could create \"virtual sunlight\" and then add a limitation of phytoplankton as a function of sunlight. \n",
    "\n",
    "#### Creating \"virtual sunlight\"\n",
    "\n",
    "To create our \"virtual sunlight\" we'll use a \"quick and dirty\" trick using sinusoidals:\n",
    "\n",
    "(11) $$ I = I_{MaxDaily} sin(\\omega_{day} t) + I_{MaxYearly} sin(\\omega_{year} t)$$\n",
    "\n",
    "where $I$ is solar irradiance ($\\mu mol m^{-2} s^{-1}$), $t$ is time ($days$) and $\\omega_{day}$ and $\\omega_{year}$ are angular frequencies ($radians * day^{-1}$), which are related to the period, $T$ ($days$) as follows:\n",
    "\n",
    "(12) $$ \\omega = \\frac{2 \\pi}{T}$$\n",
    "\n",
    "so... at the bottom of the **\"# Chores\"** section copy-paste the following:"
   ]
  },
  {
   "cell_type": "code",
   "execution_count": 25,
   "metadata": {},
   "outputs": [],
   "source": [
    "I  = np.zeros((NoSTEPS,),float) # same as above"
   ]
  },
  {
   "cell_type": "markdown",
   "metadata": {},
   "source": [
    "... and below the **\"# Chores\"** section copy-paste the following:"
   ]
  },
  {
   "cell_type": "code",
   "execution_count": 26,
   "metadata": {},
   "outputs": [],
   "source": [
    "#%% Creating sunlight\n",
    "for i in range(len(I)):\n",
    "    I[i] = 600 * np.sin((2*np.pi*time[i])/1) + \\\n",
    "           500 * np.sin((2*np.pi*time[i])/365)\n",
    "    \n",
    "    # We can't have negative light... so negatives are made zero \n",
    "    if I[i] < 0:\n",
    "        I[i] = 0"
   ]
  },
  {
   "cell_type": "markdown",
   "metadata": {},
   "source": [
    "<span class=\"run\"></span> run your code ...then <br>\n",
    "\n",
    "<div class=\"c2c\"></div>"
   ]
  },
  {
   "cell_type": "code",
   "execution_count": 27,
   "metadata": {},
   "outputs": [
    {
     "data": {
      "text/plain": [
       "[<matplotlib.lines.Line2D at 0x2c4f4b3d240>]"
      ]
     },
     "execution_count": 27,
     "metadata": {},
     "output_type": "execute_result"
    },
    {
     "data": {
      "image/png": "[encoded data removed]",
      "text/plain": [
       "<Figure size 432x288 with 1 Axes>"
      ]
     },
     "metadata": {
      "needs_background": "light"
     },
     "output_type": "display_data"
    }
   ],
   "source": [
    "plt.plot(I)"
   ]
  },
  {
   "cell_type": "markdown",
   "metadata": {
    "collapsed": true
   },
   "source": [
    "<div class=\"Q\"><br>\n",
    "\n",
    "What is the value of **I** during **night** time?\n",
    "\n",
    "<br><br><div class=\"qhelp\"></div></div>"
   ]
  },
  {
   "cell_type": "markdown",
   "metadata": {},
   "source": [
    "#### Limitation of phytoplankton as a fucntion of sunlight\n",
    "\n",
    "Now that we created \"artificial light\", we can use light to limit the growth of phytoplankton.\n",
    "\n",
    "First we have to made a new \"limitation\" using an Ivlev-type function:\n",
    "\n",
    "(13) $$L^I = 1-e^{-\\alpha P}$$\n",
    "\n",
    "where $L^I$ (dimensionless) is the limitation due to (low) light on phytoplankton and $\\alpha$ is the initial slope of the $PI$ curve.\n",
    "\n",
    "...then we can modify equation (1) and (6) as follows:\n",
    "\n",
    "(1) $$ \\frac{\\partial P}{\\partial t} = \\mu L^N L^I P - \\gamma L^P Z - m_P P$$\n",
    "\n",
    "\n",
    "(6) $$ P_{t+1} = P_t + \\left\\{ \\left[ \\mu L^N_t L^I_t P_t - \\gamma L^P_t Z_t - m_P P_t \\right] \\Delta t \\right\\} $$\n",
    "\n",
    "---\n",
    "\n",
    "...add the $L^I_t$ vector to our code by copy-pasting the following at the bottom of **\"#Chores\"**:"
   ]
  },
  {
   "cell_type": "code",
   "execution_count": 28,
   "metadata": {},
   "outputs": [],
   "source": [
    "L_I = np.zeros((NoSTEPS,),float) # same as above"
   ]
  },
  {
   "cell_type": "markdown",
   "metadata": {},
   "source": [
    "...add **alpha** in the **\"# Parameters\"** sections:"
   ]
  },
  {
   "cell_type": "code",
   "execution_count": 29,
   "metadata": {},
   "outputs": [],
   "source": [
    "alpha  = 0.004# initial slope of P vs I curve (units: {mmolN m^-3}^-1)"
   ]
  },
  {
   "cell_type": "markdown",
   "metadata": {},
   "source": [
    "...change the **MAIN MODEL LOOP** as follows:"
   ]
  },
  {
   "cell_type": "code",
   "execution_count": 30,
   "metadata": {},
   "outputs": [],
   "source": [
    "#%% MAIN MODEL LOOP *************************************************************\n",
    "for t in range(0,NoSTEPS-1):\n",
    "    L_N[t] = N[t]/(K+N[t]) # Calculate Limitation due to (low) nutrients on pythoplankton\n",
    "    L_P[t] = 1-np.exp(-Lambda*P[t]) # Calculate Limitation due to (low) pythoplankton on zooplankton\n",
    "    L_I[t] = 1-np.exp(-alpha*I[t])    \n",
    "    \n",
    "    # Estimate model state at time t+1 \n",
    "    P[t+1] = P[t] + (((mu*L_N[t]*L_I[t]*P[t]) - (gamma*L_P[t]*Z[t])- (mP*P[t])) * dt)\n",
    "    N[t+1] = N[t] + (((mP*P[t]) + (mZ*Z[t]) - (mu*L_N[t]*L_I[t]*P[t])) * dt)\n",
    "    Z[t+1] = Z[t] + (((gamma*L_P[t]*Z[t]) - (mZ*Z[t])) * dt)\n",
    "    TotNit[t+1] = P[t+1] + N[t+1] + Z[t+1]"
   ]
  },
  {
   "cell_type": "markdown",
   "metadata": {},
   "source": [
    "...and change plotting code as follows, then <span class=\"run\"></span> your code."
   ]
  },
  {
   "cell_type": "code",
   "execution_count": 31,
   "metadata": {},
   "outputs": [
    {
     "data": {
      "image/png": "[encoded data removed]",
      "text/plain": [
       "<Figure size 432x288 with 1 Axes>"
      ]
     },
     "metadata": {
      "needs_background": "light"
     },
     "output_type": "display_data"
    }
   ],
   "source": [
    "fig2, (ax) = plt.subplots(1,1)\n",
    "ax.plot(time,L_I,'c-')\n",
    "ax.plot(time,L_N,'r-')\n",
    "ax.plot(time,L_P,'b-')\n",
    "ax.set_xlabel('Time (days)')\n",
    "ax.set_ylabel('Limitation (dimensionless)')\n",
    "ax.set_title('Time evolution of Limitations')\n",
    "plt.legend(['L_I: Lim of I on Phy','L_N: Lim of N on Phy','L_P: Lim of P on Zoo'])\n",
    "plt.show()"
   ]
  },
  {
   "cell_type": "markdown",
   "metadata": {
    "collapsed": true
   },
   "source": [
    "<div class=\"Q\"><br>\n",
    "\n",
    "At noon every day, L_I is high (close to 1). What does this mean?\n",
    "\n",
    "<br><br><div class=\"qhelp\"></div></div>"
   ]
  },
  {
   "cell_type": "markdown",
   "metadata": {
    "collapsed": true
   },
   "source": [
    "<div class=\"Q\"><br>\n",
    "\n",
    "Every night, L_I is zero. What does this mean?\n",
    "\n",
    "<br><br><div class=\"qhelp\"></div></div>"
   ]
  },
  {
   "cell_type": "markdown",
   "metadata": {},
   "source": [
    "<span style=\"background-color:yellow;color:blue;font-size:17px\">\n",
    "<a href=\"https://bitbucket.org/Diego_Ibarra/aquaculturemodelling2017/raw/tip/Week2/checkpoints/NPZmodel_8.py\" target=\"_blank\">CHECKPOINT 8</a>\n",
    "</span>"
   ]
  },
  {
   "cell_type": "markdown",
   "metadata": {},
   "source": [
    "---\n",
    "\n",
    "Time to see it all put together... \n",
    "\n",
    "Lets run the model for 3 years by chaging `days` to `365 * 3`"
   ]
  },
  {
   "cell_type": "code",
   "execution_count": 32,
   "metadata": {},
   "outputs": [],
   "source": [
    "#%% Framework\n",
    "days = 365 * 3"
   ]
  },
  {
   "cell_type": "markdown",
   "metadata": {},
   "source": [
    "<span class=\"run\"></span> code and see how the plots look:"
   ]
  },
  {
   "cell_type": "code",
   "execution_count": 33,
   "metadata": {},
   "outputs": [
    {
     "data": {
      "image/png": "[encoded data removed]",
      "text/plain": [
       "<Figure size 432x288 with 1 Axes>"
      ]
     },
     "metadata": {
      "needs_background": "light"
     },
     "output_type": "display_data"
    },
    {
     "data": {
      "image/png": "[encoded data removed]",
      "text/plain": [
       "<Figure size 432x288 with 1 Axes>"
      ]
     },
     "metadata": {
      "needs_background": "light"
     },
     "output_type": "display_data"
    }
   ],
   "source": [
    "#%% Plotting\n",
    "fig, (ax) = plt.subplots(1,1)\n",
    "ax.plot(time,N,'b-')\n",
    "ax.plot(time,P,'g-')\n",
    "ax.plot(time,Z,'r-')\n",
    "ax.plot(time,TotNit,'c-')\n",
    "ax.set_xlabel('Time (days)')\n",
    "ax.set_ylabel('Nitrogen (mmol N m$^{-3}$)')\n",
    "ax.set_title('NPZ Model Simulation')\n",
    "plt.legend(['N','P','Z','TotNit'])\n",
    "plt.show()\n",
    "\n",
    "fig2, (ax) = plt.subplots(1,1)\n",
    "ax.plot(time,L_I,'c-')\n",
    "ax.plot(time,L_N,'r-')\n",
    "ax.plot(time,L_P,'b-')\n",
    "ax.set_xlabel('Time (days)')\n",
    "ax.set_ylabel('Limitation (dimensionless)')\n",
    "ax.set_title('Time evolution of Limitations')\n",
    "plt.legend(['L_I: Lim of I on Phy','L_N: Lim of N on Phy','L_P: Lim of P on Zoo'])\n",
    "plt.show()"
   ]
  },
  {
   "cell_type": "markdown",
   "metadata": {},
   "source": [
    "<span style=\"background-color:yellow;color:blue;font-size:17px\">\n",
    "<a href=\"https://bitbucket.org/Diego_Ibarra/aquaculturemodelling2017/raw/tip/Week2/checkpoints/NPZmodel_9.py\" target=\"_blank\">CHECKPOINT 9</a>\n",
    "</span>"
   ]
  },
  {
   "cell_type": "markdown",
   "metadata": {},
   "source": [
    "Take a look at the graphs and answer the following questions:"
   ]
  },
  {
   "cell_type": "markdown",
   "metadata": {
    "collapsed": true
   },
   "source": [
    "<div class=\"Q\"><br>\n",
    "\n",
    "In year 2 (i.e days 366 to 731)... Can you see the large \"spike\" in phytoplankton (~ day 420) followed by another smaller spike in phytoplankton at ~ day 580?\n",
    "\n",
    "<br><br><div class=\"qhelp\"></div></div>"
   ]
  },
  {
   "cell_type": "markdown",
   "metadata": {},
   "source": [
    "The spikes in P are consistent with the \"spring bloom\" and the \"fall bloom\"... which are known plankton dynamics in temperate regions. Our model somewhat mimics real-life dynamics!"
   ]
  },
  {
   "cell_type": "markdown",
   "metadata": {
    "collapsed": true
   },
   "source": [
    "<div class=\"Q\"><br>\n",
    "\n",
    "Why do you think nutrients (N) are so high during the winters (e.g. day 300)? \n",
    "\n",
    "<br><br><div class=\"qhelp\"></div></div>"
   ]
  },
  {
   "cell_type": "markdown",
   "metadata": {},
   "source": [
    "---\n",
    "\n",
    "Adding mussels\n",
    "--------------\n",
    "\n",
    "Now that we got the NPZ Planktonic Ecosystem model working, the next step is to add mussels and see if the phytoplankton biomass decreases (i.e. compared to the model without mussels).\n",
    "\n",
    "First lets redraw our conceptual model..."
   ]
  },
  {
   "cell_type": "markdown",
   "metadata": {},
   "source": [
    "<img src=\"NPZMmodel.png\">"
   ]
  },
  {
   "cell_type": "markdown",
   "metadata": {},
   "source": [
    "---\n",
    "\n",
    "Partial differential equations\n",
    "-------------------------------\n",
    "\n",
    "To add mussels, we wrote a brand new equation to represent the time rate of change of Mussel Biomass ($\\partial M / \\partial t$), and we also added the corresponding extra terms to the equations of $\\partial P / \\partial t$ and $\\partial N / \\partial t$.\n",
    "\n",
    "For clarity, lets show all the equations with all the new changes. Please note that we also have 2 new limitation equations, a self-limitation to prevent mussels to grow forever ($L^M$) and a limitation of grazing by mussels so that mussels stop eating at low phytoplankton concentrations ($L^{MP}$). \n",
    "\n",
    "\n",
    "(1) $$ \\frac{\\partial P}{\\partial t} = \\mu L^N L^I P - \\gamma L^P Z - \\psi L^M L^{MP} M - m_P P$$\n",
    "\n",
    "(2) $$  \\frac{\\partial N}{\\partial t} = m_P P + m_ZZ + m_MM - \\mu L^N P $$\n",
    "\n",
    "(3) $$  \\frac{\\partial Z}{\\partial t} = \\gamma L^P Z -m_ZZ $$\n",
    "\n",
    "(4) $$  \\frac{\\partial M}{\\partial t} = \\psi L^M L^{MP} M -m_MM $$\n",
    "\n",
    "(5) $$L^N = \\frac{N}{K+N}$$\n",
    "\n",
    "(6) $$L^P = 1-e^{-\\Lambda P}$$\n",
    "\n",
    "(7) $$L^I = 1-e^{-\\alpha P}$$\n",
    "\n",
    "(8) $$L^M = \\frac{M}{Km+M}$$\n",
    "\n",
    "(9) $$L^{Mp} = \\frac{P}{Kmp+P}$$\n",
    "<br><br>\n",
    "\n",
    "\n",
    "Below is the full model code with the new \"bits\" to include mussels. Make the changes then... <span class=\"run\"></span> your code."
   ]
  },
  {
   "cell_type": "code",
   "execution_count": 34,
   "metadata": {},
   "outputs": [
    {
     "name": "stderr",
     "output_type": "stream",
     "text": [
      "C:\\Users\\Diego\\Anaconda3\\lib\\site-packages\\IPython\\core\\pylabtools.py:128: UserWarning: Creating legend with loc=\"best\" can be slow with large amounts of data.\n",
      "  fig.canvas.print_figure(bytes_io, **kw)\n"
     ]
    },
    {
     "data": {
      "image/png": "[encoded data removed]",
      "text/plain": [
       "<Figure size 432x288 with 1 Axes>"
      ]
     },
     "metadata": {
      "needs_background": "light"
     },
     "output_type": "display_data"
    },
    {
     "data": {
      "image/png": "[encoded data removed]",
      "text/plain": [
       "<Figure size 432x288 with 1 Axes>"
      ]
     },
     "metadata": {
      "needs_background": "light"
     },
     "output_type": "display_data"
    }
   ],
   "source": [
    "# Import libraries\n",
    "import numpy as np\n",
    "import matplotlib.pyplot as plt\n",
    "\n",
    "#%% Framework\n",
    "days = 365 * 2\n",
    "dt   = 0.01 # units: days\n",
    "\n",
    "# Parameters\n",
    "mu     = 0.5  # growth rate of pythoplankton (units: d^-1)\n",
    "K      = 1    # half-saturation for nutrient absoption by pythoplankton (units: mmolN m^-3)\n",
    "gamma  = 0.4  # growth rate of zooplankton (units: d^-1)\n",
    "Lambda = 0.1  # initial slope of ingestion saturation of zooplankton (units: mmol N^-1 m^3)\n",
    "alpha  = 0.004# initial slope of P vs I curve (units: {mmolN m^-3}^-1)\n",
    "psi    = 0.01    # half-saturation for phytoplankton absoption by mussels (units: mmolN m^-3)\n",
    "mP     = 0.07 # mortality rate of pythoplankton (units: d^-1)\n",
    "mZ     = 0.03 # mortality rate of zooplankton (units: d^-1)\n",
    "mM     = 0.0001 # mortality rate of zooplankton (units: d^-1)\n",
    "Km     = 0.1    # half-saturation for phytoplankton feeding by mussels due to mussel size (units: mmolN m^-3)\n",
    "Kmp     = 3    # half-saturation for phytoplankton feeding by mussels (units: mmolN m^-3)\n",
    "\n",
    "# Initial conditions\n",
    "Pinitial = 4  # initial pythoplankton concentration (units: mmolN m^-3)\n",
    "Ninitial = 10 # initial nutrients concentration (units: mmolN m^-3)\n",
    "Zinitial = 2  # initial zooplankton concentration (units: mmolN m^-3)\n",
    "Minitial = 10  # initial mussel concentration (units: mmolN m^-3)\n",
    "\n",
    "#%% Chores (calculate timestemps, create zero vectors, create time vector)\n",
    "NoSTEPS = int(days / dt) # Calculates the number of steps by dividing days by dt and rounding down\n",
    "time = np.linspace(0,days,NoSTEPS) # Makes and vector array of equally spaced numbers from zero to \"days\"\n",
    "N = np.zeros((NoSTEPS,),float) # makes a vector array of zeros (size: NoSTEPS rows by ONE column)\n",
    "P = np.zeros((NoSTEPS,),float) # same as above\n",
    "Z = np.zeros((NoSTEPS,),float) # same as above\n",
    "M = np.zeros((NoSTEPS,),float) # same as above\n",
    "TotNit = np.zeros((NoSTEPS,),float) # same as above\n",
    "L_N = np.zeros((NoSTEPS,),float) # same as above\n",
    "L_P = np.zeros((NoSTEPS,),float) # same as above\n",
    "I  = np.zeros((NoSTEPS,),float) # same as above\n",
    "L_I = np.zeros((NoSTEPS,),float) # same as above\n",
    "L_M = np.zeros((NoSTEPS,),float) # same as above\n",
    "L_MP = np.zeros((NoSTEPS,),float) # same as above\n",
    "\n",
    "#%% Creating sunlight\n",
    "for i in range(len(I)):\n",
    "    I[i] = 600 * np.sin((2*np.pi*time[i])/1) + \\\n",
    "           500 * np.sin((2*np.pi*time[i])/365)\n",
    "    \n",
    "    # We can't have negative light... so negatives are made zero \n",
    "    if I[i] < 0:\n",
    "        I[i] = 0\n",
    "\n",
    "#%% Initializing with initial conditions\n",
    "P[0] = Pinitial\n",
    "N[0] = Ninitial\n",
    "Z[0] = Zinitial\n",
    "M[0] = Minitial\n",
    "\n",
    "\n",
    "#%% *****************************************************************************\n",
    "# MAIN MODEL LOOP *************************************************************\n",
    "for t in range(0,NoSTEPS-1):\n",
    "    L_N[t] = N[t]/(K+N[t]) # Calculate Limitation due to (low) nutrients on pythoplankton\n",
    "    L_P[t] = 1-np.exp(-Lambda*P[t]) # Calculate Limitation due to (low) pythoplankton on zooplankton\n",
    "    L_I[t] = 1-np.exp(-alpha*I[t])\n",
    "    L_M[t] = M[t]/(Km+M[t]) # Calculate Limitation due to \"old age\" on mussels\n",
    "    L_MP[t] = P[t]/(Kmp+P[t]) # Calculate Limitation due to \"old age\" on mussels\n",
    "    \n",
    "    # Estimate model state at time t+1 \n",
    "    P[t+1] = P[t] + (((mu*L_N[t]*L_I[t]*P[t]) - (gamma*L_P[t]*Z[t])- (psi*L_M[t]*L_MP[t]*M[t]) - (mP*P[t])) * dt)\n",
    "    N[t+1] = N[t] + (((mP*P[t]) + (mZ*Z[t]) + (mM*M[t]) - (mu*L_N[t]*L_I[t]*P[t])) * dt)\n",
    "    Z[t+1] = Z[t] + (((gamma*L_P[t]*Z[t]) - (mZ*Z[t])) * dt)\n",
    "    M[t+1] = M[t] + (((psi*L_M[t]*L_MP[t]*M[t]) - (mM*M[t])) * dt)\n",
    "    TotNit[t+1] = P[t+1] + N[t+1] + Z[t+1] + M[t+1]\n",
    "# end of main model LOOP*******************************************************\n",
    "# *****************************************************************************\n",
    "    \n",
    "#%% Plotting\n",
    "fig, (ax) = plt.subplots(1,1)\n",
    "ax.plot(time,N,'b-')\n",
    "ax.plot(time,P,'g-')\n",
    "ax.plot(time,Z,'r-')\n",
    "ax.plot(time,M,'k-')\n",
    "ax.plot(time,TotNit,'c-')\n",
    "ax.set_xlabel('Time (days)')\n",
    "ax.set_ylabel('Nitrogen (mmol N m$^{-3}$)')\n",
    "ax.set_title('NPZM Model Simulation')\n",
    "plt.legend(['N','P','Z','M','TotNit'])\n",
    "plt.show()\n",
    "\n",
    "fig2, (ax) = plt.subplots(1,1)\n",
    "ax.plot(time,L_I,'c-')\n",
    "ax.plot(time,L_N,'r-')\n",
    "ax.plot(time,L_P,'b-')\n",
    "ax.plot(time,L_M,'k-')\n",
    "ax.plot(time,L_MP,'m-')\n",
    "ax.set_xlabel('Time (days)')\n",
    "ax.set_ylabel('Limitation (dimensionless)')\n",
    "ax.set_title('Time evolution of Limitations')\n",
    "plt.legend(['L_N: Lim of N on Phy','L_P: Lim of P on Zoo','L_I: Lim of I on Phy','L_M: Lim of M on M','L_MP: Lim of P on M'])\n",
    "plt.show()"
   ]
  },
  {
   "cell_type": "markdown",
   "metadata": {},
   "source": [
    "Here you can see that mussels grow during times of abundant phytoplankton (spring and fall) and slowly decrease biomass during times of low phytoplankton (winter and summer)."
   ]
  },
  {
   "cell_type": "markdown",
   "metadata": {
    "collapsed": true
   },
   "source": [
    "<div class=\"Q\"><br>\n",
    "\n",
    "What happens to the mussels (M) when L_MP is **high** (e.g. day 100) ? \n",
    "\n",
    "<br><br><div class=\"qhelp\"></div></div>"
   ]
  },
  {
   "cell_type": "markdown",
   "metadata": {
    "collapsed": true
   },
   "source": [
    "<div class=\"Q\"><br>\n",
    "\n",
    "What happens to the mussels (M) when L_MP is **zero** (e.g. day 300)? \n",
    "\n",
    "<br><br><div class=\"qhelp\"></div></div>"
   ]
  },
  {
   "cell_type": "markdown",
   "metadata": {},
   "source": [
    "<span style=\"background-color:yellow;color:blue;font-size:17px\">\n",
    "<a href=\"https://bitbucket.org/Diego_Ibarra/aquaculturemodelling2017/raw/tip/Week2/checkpoints/NPZmodel_10.py\" target=\"_blank\">CHECKPOINT 10</a>\n",
    "</span>"
   ]
  },
  {
   "cell_type": "markdown",
   "metadata": {},
   "source": [
    "****\n",
    "\n",
    "You can run the model with different initial concentration of $M$ to see what happens to $P$. However, the best way to visualize the exact effect that mussels have on the system, is to run the model several times (with and without mussels) and then compare the results.\n",
    "\n",
    "First run the model as is... then save the Phytoplankton state in a separate variable ( `P_withMussels` ):\n",
    "\n",
    "<div class=\"c2c\"></div>"
   ]
  },
  {
   "cell_type": "code",
   "execution_count": 35,
   "metadata": {},
   "outputs": [],
   "source": [
    "P_withMussels = P"
   ]
  },
  {
   "cell_type": "markdown",
   "metadata": {},
   "source": [
    "Then change the number of mussels to zero, and run the model again..."
   ]
  },
  {
   "cell_type": "code",
   "execution_count": 36,
   "metadata": {},
   "outputs": [],
   "source": [
    "# Import libraries\n",
    "import numpy as np\n",
    "import matplotlib.pyplot as plt\n",
    "\n",
    "#%% Framework\n",
    "days = 365 * 2\n",
    "dt   = 0.01 # units: days\n",
    "\n",
    "# Parameters\n",
    "mu     = 0.5  # growth rate of pythoplankton (units: d^-1)\n",
    "K      = 1    # half-saturation for nutrient absoption by pythoplankton (units: mmolN m^-3)\n",
    "gamma  = 0.4  # growth rate of zooplankton (units: d^-1)\n",
    "Lambda = 0.1  # initial slope of ingestion saturation of zooplankton (units: mmol N^-1 m^3)\n",
    "alpha  = 0.004# initial slope of P vs I curve (units: {mmolN m^-3}^-1)\n",
    "psi    = 0.01    # half-saturation for phytoplankton absoption by mussels (units: mmolN m^-3)\n",
    "mP     = 0.07 # mortality rate of pythoplankton (units: d^-1)\n",
    "mZ     = 0.03 # mortality rate of zooplankton (units: d^-1)\n",
    "mM     = 0.0001 # mortality rate of zooplankton (units: d^-1)\n",
    "Km     = 0.1    # half-saturation for phytoplankton feeding by mussels due to mussel size (units: mmolN m^-3)\n",
    "Kmp     = 3    # half-saturation for phytoplankton feeding by mussels (units: mmolN m^-3)\n",
    "\n",
    "# Initial conditions\n",
    "Pinitial = 4  # initial pythoplankton concentration (units: mmolN m^-3)\n",
    "Ninitial = 10 # initial nutrients concentration (units: mmolN m^-3)\n",
    "Zinitial = 2  # initial zooplankton concentration (units: mmolN m^-3)\n",
    "Minitial = 0  # initial mussel concentration (units: mmolN m^-3)\n",
    "\n",
    "#%% Chores (calculate timestemps, create zero vectors, create time vector)\n",
    "NoSTEPS = int(days / dt) # Calculates the number of steps by dividing days by dt and rounding down\n",
    "time = np.linspace(0,days,NoSTEPS) # Makes and vector array of equally spaced numbers from zero to \"days\"\n",
    "N = np.zeros((NoSTEPS,),float) # makes a vector array of zeros (size: NoSTEPS rows by ONE column)\n",
    "P = np.zeros((NoSTEPS,),float) # same as above\n",
    "Z = np.zeros((NoSTEPS,),float) # same as above\n",
    "M = np.zeros((NoSTEPS,),float) # same as above\n",
    "TotNit = np.zeros((NoSTEPS,),float) # same as above\n",
    "L_N = np.zeros((NoSTEPS,),float) # same as above\n",
    "L_P = np.zeros((NoSTEPS,),float) # same as above\n",
    "I  = np.zeros((NoSTEPS,),float) # same as above\n",
    "L_I = np.zeros((NoSTEPS,),float) # same as above\n",
    "L_M = np.zeros((NoSTEPS,),float) # same as above\n",
    "L_MP = np.zeros((NoSTEPS,),float) # same as above\n",
    "\n",
    "#%% Creating sunlight\n",
    "for i in range(len(I)):\n",
    "    I[i] = 600 * np.sin((2*np.pi*time[i])/1) + \\\n",
    "           500 * np.sin((2*np.pi*time[i])/365)\n",
    "    \n",
    "    # We can't have negative light... so negatives are made zero \n",
    "    if I[i] < 0:\n",
    "        I[i] = 0\n",
    "\n",
    "#%% Initializing with initial conditions\n",
    "P[0] = Pinitial\n",
    "N[0] = Ninitial\n",
    "Z[0] = Zinitial\n",
    "M[0] = Minitial\n",
    "\n",
    "\n",
    "#%% *****************************************************************************\n",
    "# MAIN MODEL LOOP *************************************************************\n",
    "for t in range(0,NoSTEPS-1):\n",
    "    L_N[t] = N[t]/(K+N[t]) # Calculate Limitation due to (low) nutrients on pythoplankton\n",
    "    L_P[t] = 1-np.exp(-Lambda*P[t]) # Calculate Limitation due to (low) pythoplankton on zooplankton\n",
    "    L_I[t] = 1-np.exp(-alpha*I[t])\n",
    "    L_M[t] = M[t]/(Km+M[t]) # Calculate Limitation due to \"old age\" on mussels\n",
    "    L_MP[t] = P[t]/(Kmp+P[t]) # Calculate Limitation due to \"old age\" on mussels\n",
    "    \n",
    "    # Estimate model state at time t+1 \n",
    "    P[t+1] = P[t] + (((mu*L_N[t]*L_I[t]*P[t]) - (gamma*L_P[t]*Z[t])- (psi*L_M[t]*L_MP[t]*M[t]) - (mP*P[t])) * dt)\n",
    "    N[t+1] = N[t] + (((mP*P[t]) + (mZ*Z[t]) + (mM*M[t]) - (mu*L_N[t]*L_I[t]*P[t])) * dt)\n",
    "    Z[t+1] = Z[t] + (((gamma*L_P[t]*Z[t]) - (mZ*Z[t])) * dt)\n",
    "    M[t+1] = M[t] + (((psi*L_M[t]*L_MP[t]*M[t]) - (mM*M[t])) * dt)\n",
    "    TotNit[t+1] = P[t+1] + N[t+1] + Z[t+1] + M[t+1]\n",
    "# end of main model LOOP*******************************************************\n",
    "# *****************************************************************************"
   ]
  },
  {
   "cell_type": "markdown",
   "metadata": {},
   "source": [
    "Again, save the Phytoplankton state in a separate variable (e.g. `P_noMussels`):\n",
    "\n",
    "<div class=\"c2c\"></div>"
   ]
  },
  {
   "cell_type": "code",
   "execution_count": 37,
   "metadata": {},
   "outputs": [],
   "source": [
    "P_noMussels = P"
   ]
  },
  {
   "cell_type": "markdown",
   "metadata": {},
   "source": [
    "Now lets do a plot to see the exact difference...\n",
    "\n",
    "<div class=\"c2c\"></div>"
   ]
  },
  {
   "cell_type": "code",
   "execution_count": 38,
   "metadata": {},
   "outputs": [
    {
     "data": {
      "image/png": "[encoded data removed]",
      "text/plain": [
       "<Figure size 432x288 with 1 Axes>"
      ]
     },
     "metadata": {
      "needs_background": "light"
     },
     "output_type": "display_data"
    }
   ],
   "source": [
    "#%% Plotting\n",
    "fig, (ax) = plt.subplots(1,1)\n",
    "ax.plot(time,P_noMussels,'g-')\n",
    "ax.plot(time,P_withMussels,'k-')\n",
    "ax.set_xlabel('Time (days)')\n",
    "ax.set_ylabel('Nitrogen (mmol N m$^{-3}$)')\n",
    "ax.set_title('NPZM Model Simulation')\n",
    "plt.legend(['P_noMussels','P_withMussels'])\n",
    "plt.show()"
   ]
  },
  {
   "cell_type": "markdown",
   "metadata": {
    "collapsed": true
   },
   "source": [
    "<div class=\"Q\"><br>\n",
    "\n",
    "What was the effect of mussels on the **magnitude** of the spring bloom (i.e. days 400 to 500)?\n",
    "\n",
    "<br><br><div class=\"qhelp\"></div></div>"
   ]
  },
  {
   "cell_type": "markdown",
   "metadata": {
    "collapsed": true
   },
   "source": [
    "<div class=\"Q\"><br>\n",
    "\n",
    "What was the effect of mussels on the **timing** of the spring bloom (i.e. days 400 to 500)?\n",
    "\n",
    "<br><br><div class=\"qhelp\"></div></div>"
   ]
  },
  {
   "cell_type": "markdown",
   "metadata": {},
   "source": [
    "As you can see, adding mussels to the pond in the Public Gardens decreases the concentration of phytoplankton... by about 20% at its peak (in the second years). The addition of mussels also delayed the \"spring bloom\". "
   ]
  },
  {
   "cell_type": "markdown",
   "metadata": {},
   "source": [
    "_Please beware that this model was designed as a teaching tool and it is too simplistic to adequately represent dynamics in realistic embayments_.\n",
    "\n",
    "# **This is the end of lab**\n",
    "\n",
    "*******************\n",
    "*******************\n",
    "\n",
    "Code below is for formatting of this lab. Do not alter!"
   ]
  },
  {
   "cell_type": "code",
   "execution_count": 39,
   "metadata": {},
   "outputs": [
    {
     "data": {
      "text/html": [
       "<style>\n",
       "\n",
       "body {\n",
       "  counter-reset: question_num;                     /* Set a counter named 'section', and it`s initial value is 0. */\n",
       "}\n",
       "\n",
       "/* Question Box */\n",
       ".Q {\n",
       "    background-color:#ff9900;\n",
       "    color:black;\n",
       "    font-size:17px;\n",
       "    width:100%;\n",
       "    border:1px solid #666666;\n",
       "    padding:5px;\n",
       "}\n",
       "\n",
       ".Q::before {\n",
       "    counter-increment: question_num;\n",
       "    content: \"QUESTION \" counter(question_num) '\\A';\n",
       "    white-space: pre;\n",
       "}\n",
       "\n",
       ".qhelp {\n",
       "    color:#666666;\n",
       "    font-size:15px\n",
       "}\n",
       "\n",
       ".qhelp::after {\n",
       "    content: \"Answer this question in the corresponding Brightspace LAB quiz\"\n",
       "}\n",
       "\n",
       "\n",
       "\n",
       "/* code */\n",
       ".rendered_html pre, .rendered_html code {\n",
       "    font-family: \"SF Mono\",\"Segoe UI Mono\",\"Roboto Mono\",\"Ubuntu Mono\",Menlo,Courier,monospace;\n",
       "    padding: 1px 3px;\n",
       "    border: 1px solid #e6e6e6;\n",
       "    border-radius: 3px;\n",
       "    background: #e6e6e6;\n",
       "    font-size: 12px;\n",
       "    line-height: 1.4;\n",
       "    color: #0052CC;\n",
       "}\n",
       "\n",
       "\n",
       "/* Copy to CONSOLE */\n",
       ".c2c {\n",
       "    background-color:#d2d2d2;\n",
       "    color:#ff8080;\n",
       "    font-size:13px;\n",
       "    border:1px solid #bfbfbf;\n",
       "    padding:1px 3px;\n",
       "    border-radius: 3px;\n",
       "    margin-top: 10px;\n",
       "    display: inline-block;\n",
       "}\n",
       "\n",
       ".c2c::before {\n",
       "    content: \"Copy-paste into Spyder's Console\";\n",
       "}\n",
       "\n",
       "\n",
       "/* RUN */\n",
       ".run {\n",
       "    background-color:#d2d2d2;\n",
       "    color:#00b300;\n",
       "    font-size: 12px;\n",
       "    line-height: 1.4;\n",
       "    font-weight: bold;\n",
       "    border:1px solid #bfbfbf;\n",
       "    padding-top:0px;\n",
       "    padding-bottom:0px;\n",
       "    padding-left:3px;\n",
       "    padding-right:3px;\n",
       "    border-radius: 3px;\n",
       "    display: inline-block;\n",
       "}\n",
       ".run::before {\n",
       "    content: \"\\25B6\" \"RUN\";\n",
       "}\n",
       "\n",
       "/* RUN */\n",
       ".runcell {\n",
       "    background-color:#d2d2d2;\n",
       "    color:#00b300;\n",
       "    font-size: 12px;\n",
       "    line-height: 1.4;\n",
       "    border:1px solid #bfbfbf;\n",
       "    padding-top:0px;\n",
       "    padding-bottom:0px;\n",
       "    padding-left:3px;\n",
       "    padding-right:3px;\n",
       "    border-radius: 3px;\n",
       "    display: inline-block;\n",
       "}\n",
       ".runcell::before {\n",
       "    content: \"RUN current cell\";\n",
       "}\n",
       "\n",
       "/* FILE */\n",
       ".file {\n",
       "    color:#b36b00;\n",
       "    font-size: 12px;\n",
       "    line-height: 1.4;\n",
       "    font-weight: bold;\n",
       "    border:1px solid #bfbfbf;\n",
       "    padding-top:0px;\n",
       "    padding-bottom:0px;\n",
       "    padding-left:3px;\n",
       "    padding-right:3px;\n",
       "    border-radius: 3px;\n",
       "    display: inline-block;\n",
       "}\n",
       "\n",
       "/* important */\n",
       ".important {\n",
       "    background-color:#ff4d4d;\n",
       "    color:black;\n",
       "    font-size: 13px;\n",
       "    line-height: 1.4;\n",
       "    font-weight: bold;\n",
       "    border:1px solid #bfbfbf;\n",
       "    padding-top:0px;\n",
       "    padding-bottom:0px;\n",
       "    padding-left:3px;\n",
       "    padding-right:3px;\n",
       "    border-radius: 3px;\n",
       "    display: inline-block;\n",
       "    margin-top:5px;\n",
       "}\n",
       ".important::before {\n",
       "    content: \"Important:\";\n",
       "}\n",
       "\n",
       "/* important */\n",
       ".note {\n",
       "    background-color:#ffff80;\n",
       "    color:black;\n",
       "    font-size: 13px;\n",
       "    line-height: 1.4;\n",
       "    font-weight: bold;\n",
       "    border:1px solid #bfbfbf;\n",
       "    padding-top:0px;\n",
       "    padding-bottom:0px;\n",
       "    padding-left:3px;\n",
       "    padding-right:3px;\n",
       "    border-radius: 3px;\n",
       "    display: inline-block;\n",
       "    margin-top:5px;\n",
       "}\n",
       ".note::before {\n",
       "    content: \"Note:\";\n",
       "}\n",
       "\n",
       "/* checkpoint */\n",
       ".checkpoint {\n",
       "    background-color:yellow;\n",
       "    color:blue;\n",
       "    font-size: 15px;\n",
       "    line-height: 1.4;\n",
       "    font-weight: bold;\n",
       "    border:1px solid #bfbfbf;\n",
       "    padding-top:0px;\n",
       "    padding-bottom:0px;\n",
       "    padding-left:3px;\n",
       "    padding-right:3px;\n",
       "    border-radius: 3px;\n",
       "    display: inline-block;\n",
       "    margin-top:5px;\n",
       "}\n",
       "\n",
       ".codeerror {\n",
       "    background-color:#ffb3b3;\n",
       "    color:red;\n",
       "    font-size: 13px;\n",
       "    line-height: 1.4;\n",
       "    border:1px solid #ffb3b3;\n",
       "    padding-top:7px;\n",
       "    padding-bottom:7px;\n",
       "    padding-left:7px;\n",
       "    padding-right:7px;\n",
       "    border-radius: 3px;\n",
       "    margin:20px;\n",
       "    margin-left:25px;\n",
       "}\n",
       "\n",
       ".lineerror {\n",
       "    background-color:#ffb3b3;\n",
       "    color:red;\n",
       "    font-size: 13px;\n",
       "    line-height: 1.4;\n",
       "    border:1px solid #ffb3b3;\n",
       "    padding-top:0px;\n",
       "    padding-bottom:0px;\n",
       "    padding-left:3px;\n",
       "    padding-right:3px;\n",
       "    border-radius: 3px;\n",
       "    display: inline-block;\n",
       "    margin-top:5px;\n",
       "}\n",
       "\n",
       "\n",
       "/* terminal */\n",
       ".terminal {\n",
       "    background-color:black;\n",
       "    color:white;\n",
       "    font-size: 12px;\n",
       "    line-height: 1.4;\n",
       "    border:1px solid black;\n",
       "    padding-top:0px;\n",
       "    padding-bottom:0px;\n",
       "    padding-left:3px;\n",
       "    padding-right:3px;\n",
       "    border-radius: 3px;\n",
       "    display: inline-block;\n",
       "}\n",
       ".terminal::before {\n",
       "    content: \"Terminal (i.e. Anaconda Promt)\";\n",
       "}\n",
       ".terminalBlock {\n",
       "    background-color:black;\n",
       "    color:white;\n",
       "    font-size: 14px;\n",
       "    line-height: 1.4;\n",
       "    border:1px solid black;\n",
       "    padding-top:7px;\n",
       "    padding-bottom:7px;\n",
       "    padding-left:7px;\n",
       "    padding-right:7px;\n",
       "    border-radius: 3px;\n",
       "    margin:20px;\n",
       "    margin-left:25px;\n",
       "}\n",
       "\n",
       "</style>"
      ],
      "text/plain": [
       "<IPython.core.display.HTML object>"
      ]
     },
     "execution_count": 39,
     "metadata": {},
     "output_type": "execute_result"
    }
   ],
   "source": [
    "# Loads css file and applies it to lab HTML\n",
    "from IPython.core.display import HTML\n",
    "def css():\n",
    "    style = open(\"../css/custom.css\", \"r\").read()\n",
    "    return HTML(style)\n",
    "css()"
   ]
  },
  {
   "cell_type": "code",
   "execution_count": null,
   "metadata": {},
   "outputs": [],
   "source": []
  }
 ],
 "metadata": {
  "anaconda-cloud": {},
  "kernelspec": {
   "display_name": "Python 3",
   "language": "python",
   "name": "python3"
  },
  "language_info": {
   "codemirror_mode": {
    "name": "ipython",
    "version": 3
   },
   "file_extension": ".py",
   "mimetype": "text/x-python",
   "name": "python",
   "nbconvert_exporter": "python",
   "pygments_lexer": "ipython3",
   "version": "3.7.3"
  }
 },
 "nbformat": 4,
 "nbformat_minor": 1
}
