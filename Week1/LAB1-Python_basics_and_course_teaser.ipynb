{
 "cells": [
  {
   "cell_type": "code",
   "execution_count": null,
   "metadata": {},
   "outputs": [],
   "source": [
    "%matplotlib inline"
   ]
  },
  {
   "cell_type": "markdown",
   "metadata": {},
   "source": [
    "# LAB 1 - Python basics and course teaser\n",
    "MARI4600/BIO5600: Ecosystem Modelling for Aquaculture (Dalhousie University)\n",
    "\n",
    "--------------------------------"
   ]
  },
  {
   "cell_type": "markdown",
   "metadata": {},
   "source": [
    "## Anaconda\n",
    "`Anaconda` is a free \"bundle\" of Python and many modules, libraries and other programs commonly used in scientific research. `Anaconda` was preinstalled in all Lab computers; however, if you want to follow along in your own laptop, you can install Anaconda (make sure you download the version with **Python 3.7**) from here: https://www.anaconda.com/distribution/"
   ]
  },
  {
   "cell_type": "markdown",
   "metadata": {
    "collapsed": true
   },
   "source": [
    "## Lab mechanics (how to work through the labs of this course)\n",
    "\n",
    "For the labs in this course you will need 3 programs (sometimes 4):\n",
    "\n",
    "1. ***Lab manual***: It is a webpage with instructions on what to do in the lab. If you are reading \"this\" you already found lab manual. The ***Lab manual*** is viewed inside your browser (e.g. Firefox, Chrome, Safari, etc).\n",
    "2. Brightspace ***LAB Quiz***: In the ***Lab manual*** there are several questions that you will need to answer in the corresponding quiz in Brightspace. Same as ***Lab manual***, the Brightspace ***LAB Quiz*** is viewed inside your browser (e.g. Firefox, Chrome, Safari, etc). You can get to the Quizzes section in Brightspace following **Assessement > Quizzes** \n",
    "3. ***Spyder***: This is the main program where you will use to write and run Python code. We'll talk more about Spyder below.\n",
    "4. ***Terminal***: Every once in a while you will need to install additional Python modules. This is done in the ***Terminal***. More on this below.\n",
    "\n",
    "### Work flow in a typical Lab\n",
    "In most labs, you will be required to read along the ***Lab manual*** and copy-paste code from the ***lab manual*** into ***Spyder*** to run it. This will create output in the form of numbers, graphs, maps, etc. Every once in a while you will need to answer <span style=\"background-color:#ff9900;color:balck;font-size:15px;border:1px solid #666666;padding:1px\">questions</span>, which are marked by being inside orange boxes. The questions need to be answered in the corresponding Brightspace ***LAB quiz***. So you will be jumping back and forth between the ***Lab manual***, ***Spyder*** and the ***LAB quiz*** throughout the lab.\n",
    "\n",
    "\n"
   ]
  },
  {
   "cell_type": "markdown",
   "metadata": {},
   "source": [
    "## Spyder\n",
    "Spyder is a free \"Integrated Development Environment\" that comes included in Anaconda and that is especially designed to work with Python. \n",
    "\n",
    "* To open ***Spyder***, search in the taskbar for \"Spyder\", the program looks as follows:\n",
    "\n",
    "<img src=\"./spyder.png\" width=\"800px\">\n",
    "\n",
    "The Spyder screen is divived in multiple panels. The two most important are the ***Console*** and the ***Editor***. \n",
    "\n",
    "### Spyder's \"Console\"\n",
    "The ***Console*** is a live instace of Python. You can write python code in here, then click [Enter] and the code will immediatelly be executed. Let's try it:\n",
    "\n",
    "Type the following code in the ***Console***, then press [Enter]"
   ]
  },
  {
   "cell_type": "code",
   "execution_count": null,
   "metadata": {},
   "outputs": [],
   "source": [
    "print('hello world!')"
   ]
  },
  {
   "cell_type": "markdown",
   "metadata": {},
   "source": [
    "<div class=\"Q\"><br>\n",
    "\n",
    "After you typed print('hello world!')...\n",
    "What got displayed on the screen?\n",
    "\n",
    "<br><br><div class=\"qhelp\"></div></div>\n"
   ]
  },
  {
   "cell_type": "markdown",
   "metadata": {},
   "source": [
    "### Spyder's \"Working Directory\"\n",
    "\n",
    "In the top right corner (usually) Spyder will show you its ***working directory***, which is the location in your computer where it is reading and writting files. When you execute Python code with instructions to write data or figure to a file, this file will be save in the ***working directory***. When you are working on a lab that requires ancillary data files or ancillary python code files, you need make sure these files are in the ***working directory***. You can download them directly to the ***working directory***, or you can change the ***working directory*** to be folder where you downloaded your files. To change the ***working directory***, simply chick on the \"folder\" icon and select the new location. \n",
    "\n",
    "You can also see the location of the ***working directory*** by typing in the ***Console*** the following (then press [Enter]):"
   ]
  },
  {
   "cell_type": "code",
   "execution_count": null,
   "metadata": {},
   "outputs": [],
   "source": [
    "%pwd"
   ]
  },
  {
   "cell_type": "markdown",
   "metadata": {},
   "source": [
    "### Spyder's \"Editor\"\n",
    "The ***Editor*** is the space where you write your code so that you can execute it later. The ***Editor*** is shown below inside the red box.\n",
    "\n",
    "<img src=\"./editor.png\" width=\"500px\">\n",
    "\n",
    "\n",
    "Note that the ***Editor*** color-codes your text so that it can be read with ease. It will also perform some basic quality control and will tell you if you made a mistake (more on this later).\n",
    "\n",
    "You can run the code you wrote in the editor by clicking on the \"run\" button (i.e. green triangular button shown below).\n",
    "\n",
    "<img src=\"./run_button.png\">\n",
    "\n",
    "Note that the first time you run your code the ***Editor*** will prompt you to save your file. You can name your file anything you want, but the extension will be automatically set as `.py`, which is the default extension for Python files. Also note that, by default, you will be prompt to save your file in the current ***working directory***. \n",
    "\n",
    "Lets do a test. Type the following in the ***Editor*** and click [Run]"
   ]
  },
  {
   "cell_type": "code",
   "execution_count": null,
   "metadata": {},
   "outputs": [],
   "source": [
    "print('hello world!')"
   ]
  },
  {
   "cell_type": "markdown",
   "metadata": {},
   "source": [
    "As you see, when you run the code in the ***Editor***, the output is displayed in the ***Console***"
   ]
  },
  {
   "cell_type": "markdown",
   "metadata": {},
   "source": [
    "### The Terminal (Anaconda Prompt)\n",
    "\n",
    "When you need to install additional Python modules or libraries, you will need the ***Terminal***. To open it, search in the task bar for \"Anaconda Prompt\", it should look like this:\n",
    "\n",
    "<img src=\"./terminal.png\" width=\"700px\">\n",
    "\n",
    "Since you have the ***Terminal*** open, lets install a few modules that we'll need for this lab.\n",
    "\n"
   ]
  },
  {
   "cell_type": "markdown",
   "metadata": {},
   "source": [
    "### Installing new modules\n",
    "\n",
    "`Anaconda` comes with many \"pre-installed\" modules and libraries. However, we will need a few additional modules that do not come pre-installed. There are several ways to install Python modules and libraries, here we will use `conda`. Note that normally you only need to install a module once (it will remain installed until you manually remove it). However, because the lab computers are wiped out clean every night, you may need to install the same module several times during this course. Lets install 2 modules (i.e. basemap and netcdf4). I'll explain what these modules do later.\n",
    "\n",
    "* Open the ***Terminal***\n",
    "* Type in the ***Terminal***: `conda install basemap netcdf4`\n",
    "* Click [Enter]\n",
    "* If it asks you \"are you sure?\", type \"y\" and click [Enter] again.\n",
    "\n",
    "Done! The new modules are now installed (again, I'll explain how to use these new modules at the end of this lab)."
   ]
  },
  {
   "cell_type": "markdown",
   "metadata": {},
   "source": [
    "-------------------------------\n",
    "## Comments and statements\n",
    "\n",
    "* **Comments** are lines of text meant to be read ONLY by humans (i.e. the computer ignores these lines). Comments usually contain annotations and additional information to make easier to understand the code to the programmer. **Comments** are preceded by a **#** (hashtag)\n",
    "\n",
    "* A **Statement** is a line of text read by the computer. This is \"the code\". A statement contains instructions for the computer to do a simple task\n",
    "\n",
    "Take a look to the sequence of statements below:\n"
   ]
  },
  {
   "cell_type": "code",
   "execution_count": null,
   "metadata": {},
   "outputs": [],
   "source": [
    "# This is a Comment because it is preceded by a # (hashtag)\n",
    "a = 2\n",
    "\n",
    "# Lets print our variables to screen\n",
    "print(a) # Note that comments can be written after a statement (but not before)"
   ]
  },
  {
   "cell_type": "markdown",
   "metadata": {},
   "source": [
    "Above...\n",
    "* The first line is a **comment**\n",
    "* The second line is a **statement** assigning the value of `a` to be equal to 2\n",
    "* Then there is a blank line. Blank lines are ignored by Python (they exist to space the code and make it easier to read).\n",
    "* The forth line is a **comment**\n",
    "* The fifth line is a **statement** asking Python to print the value of `a` to screen. After the statement, there is another comment \n",
    "\n",
    "If you copy-paste the code above to the ***Spyder's Editor*** and click [run], it will print a `2` to the console.\n"
   ]
  },
  {
   "cell_type": "markdown",
   "metadata": {},
   "source": [
    "<div class=\"note\"> Once `a = 2` has been executed, the value of `a` will be stored \"in memory\" until you turn off python, until you delete `a`, or until you update `a` with a different value.</div>"
   ]
  },
  {
   "cell_type": "markdown",
   "metadata": {},
   "source": [
    "### Variables\n",
    "A **Variable** is a user-defined label that can be used to name anything. For example, in the **statement** above (`a = 2`) \"a\" is a variable. You can name variables anything you want (no punctuation thought), for example:"
   ]
  },
  {
   "cell_type": "code",
   "execution_count": null,
   "metadata": {},
   "outputs": [],
   "source": [
    "my_cute_variable = 35\n",
    "\n",
    "print(my_cute_variable)"
   ]
  },
  {
   "cell_type": "markdown",
   "metadata": {},
   "source": [
    "Note that it is a good practice to choose variable names that describe what is stored within the variable. "
   ]
  },
  {
   "cell_type": "markdown",
   "metadata": {},
   "source": [
    "-------------------------------\n",
    "\n",
    "##  Basic data types\n",
    "\n",
    "In every computer language there are many data types. Each data type behaves under different rules, thus it is important to always be aware of what data type each statement is working with. Below are some of the most common data types used in Python:\n",
    "\n",
    "### Integers\n",
    "\n",
    "**Integers** are \"round\" numbers (i.e. no decimal point) "
   ]
  },
  {
   "cell_type": "code",
   "execution_count": null,
   "metadata": {},
   "outputs": [],
   "source": [
    "my_int = 2\n",
    "\n",
    "print(my_int)"
   ]
  },
  {
   "cell_type": "markdown",
   "metadata": {},
   "source": [
    "### Floats\n",
    "**Floats** are numbers with a decimal point"
   ]
  },
  {
   "cell_type": "code",
   "execution_count": null,
   "metadata": {},
   "outputs": [],
   "source": [
    "my_float = 2.3\n",
    "\n",
    "print(my_float)"
   ]
  },
  {
   "cell_type": "markdown",
   "metadata": {},
   "source": [
    "### Strings\n",
    "**Strings** are letters. Note that you need to wrap the content of the string within quotes to tell Python they are a string "
   ]
  },
  {
   "cell_type": "code",
   "execution_count": null,
   "metadata": {},
   "outputs": [],
   "source": [
    "# You can use single quotes ' or double quotes \" to create strings\n",
    "my_string_1 = 'hello'\n",
    "\n",
    "my_string_2 = \"2.3\"\n",
    "\n",
    "print(my_string_1)\n",
    "print(my_string_2)"
   ]
  },
  {
   "cell_type": "markdown",
   "metadata": {},
   "source": [
    "Note that even though \"2.3\" is a number, it will be treated by Python as \"letters\". Therefore you won't be able to do math with \"2.3\""
   ]
  },
  {
   "cell_type": "markdown",
   "metadata": {},
   "source": [
    "<div class=\"Q\"><br>\n",
    "\n",
    "What data type is the following: <br><br>\n",
    "324.91\n",
    "\n",
    "<br><br><div class=\"qhelp\"></div></div>\n"
   ]
  },
  {
   "cell_type": "markdown",
   "metadata": {},
   "source": [
    "<div class=\"Q\"><br>\n",
    "\n",
    "What data type is the following: <br><br>\n",
    "'the house is green'\n",
    "\n",
    "<br><br><div class=\"qhelp\"></div></div>"
   ]
  },
  {
   "cell_type": "markdown",
   "metadata": {},
   "source": [
    "<div class=\"Q\"><br>\n",
    "\n",
    "What data type is the following: <br><br>\n",
    "87572\n",
    "\n",
    "<br><br><div class=\"qhelp\"></div></div>"
   ]
  },
  {
   "cell_type": "markdown",
   "metadata": {},
   "source": [
    "### Simple operations between different data types\n",
    "\n",
    "Addind an **integer** plus a **float** yields a float"
   ]
  },
  {
   "cell_type": "code",
   "execution_count": null,
   "metadata": {},
   "outputs": [],
   "source": [
    "my_int + my_float"
   ]
  },
  {
   "cell_type": "markdown",
   "metadata": {},
   "source": [
    "... but, operations between strings and floats (or integers) yields an ERROR"
   ]
  },
  {
   "cell_type": "code",
   "execution_count": null,
   "metadata": {},
   "outputs": [],
   "source": [
    "my_float + my_string_1"
   ]
  },
  {
   "cell_type": "markdown",
   "metadata": {},
   "source": [
    "\"Summing\" two strings simply concatenates them together:"
   ]
  },
  {
   "cell_type": "code",
   "execution_count": null,
   "metadata": {},
   "outputs": [],
   "source": [
    "my_string_1 + my_string_2"
   ]
  },
  {
   "cell_type": "markdown",
   "metadata": {},
   "source": [
    "-------------------------------------------\n",
    "\n",
    "## Objects (lists and dictionaries)\n",
    "\n",
    "Everything in Python is an object! Even the basic data types are objects: Integers are \"Integer Objects\", floats are \"Float Objects\" etc. Each type of object behaves under its own set of rules, therefore it is ESSENTIAL to be aware of what type of object is each of your variables. \n",
    "\n",
    "We already talked about the sometimes called \"primitive objects\" (i.e. integers, floats, strings), however python comes included with some more advanced objects (e.g. lists and dictionaries). Also, when you install new modules, often they come with their own objects (each with their own rules). \n",
    "\n",
    "Following a \"cooking analogy\", I like to think \"primitive objects\" as types of raw ingredients (e.g. liquid, powder, solid) and the more advanced objects can be thought as containers (e.g. bag, basket, jar, shelf).\n",
    "\n",
    "If you don't know what type of object is a variable, just type **`type(variableName)`**, for example:"
   ]
  },
  {
   "cell_type": "code",
   "execution_count": null,
   "metadata": {},
   "outputs": [],
   "source": [
    "my_var = 12.8\n",
    "\n",
    "type(my_var)"
   ]
  },
  {
   "cell_type": "markdown",
   "metadata": {},
   "source": [
    "### Lists\n",
    "Lists are similar to \"cell-arrays\" in Matlab. \"Lists\" are great when you just want to append items at the end of the list, but you don't care too much about retrieving a particular item within the list.\n",
    "\n",
    "Let's do a \"list\""
   ]
  },
  {
   "cell_type": "code",
   "execution_count": null,
   "metadata": {},
   "outputs": [],
   "source": [
    "my_list = [2,5,8,7,1,2,7]\n",
    "\n",
    "my_list"
   ]
  },
  {
   "cell_type": "markdown",
   "metadata": {},
   "source": [
    "To access an item within the list, type its index within square brackets:"
   ]
  },
  {
   "cell_type": "code",
   "execution_count": null,
   "metadata": {},
   "outputs": [],
   "source": [
    "my_list[0]"
   ]
  },
  {
   "cell_type": "markdown",
   "metadata": {},
   "source": [
    "<span style=\"color:red\">Important:</span> Note that in Python, the first index is **zero!**"
   ]
  },
  {
   "cell_type": "code",
   "execution_count": null,
   "metadata": {},
   "outputs": [],
   "source": [
    "my_list[1]"
   ]
  },
  {
   "cell_type": "code",
   "execution_count": null,
   "metadata": {},
   "outputs": [],
   "source": [
    "my_list[2]"
   ]
  },
  {
   "cell_type": "markdown",
   "metadata": {},
   "source": [
    "Negative indices are counted backwards from the last item:"
   ]
  },
  {
   "cell_type": "code",
   "execution_count": null,
   "metadata": {},
   "outputs": [],
   "source": [
    "my_list[-1]"
   ]
  },
  {
   "cell_type": "code",
   "execution_count": null,
   "metadata": {},
   "outputs": [],
   "source": [
    "my_list[-2]"
   ]
  },
  {
   "cell_type": "markdown",
   "metadata": {},
   "source": [
    "To access several items within the list, use a colon (i.e. :)"
   ]
  },
  {
   "cell_type": "code",
   "execution_count": null,
   "metadata": {},
   "outputs": [],
   "source": [
    "my_list[2:4]"
   ]
  },
  {
   "cell_type": "code",
   "execution_count": null,
   "metadata": {},
   "outputs": [],
   "source": [
    "my_list[:3]"
   ]
  },
  {
   "cell_type": "code",
   "execution_count": null,
   "metadata": {},
   "outputs": [],
   "source": [
    "my_list[-3:]"
   ]
  },
  {
   "cell_type": "markdown",
   "metadata": {},
   "source": [
    "Note that you can put anything you want in a list (i.e. not only integers). For example:"
   ]
  },
  {
   "cell_type": "code",
   "execution_count": null,
   "metadata": {},
   "outputs": [],
   "source": [
    "my_other_list = ['a','5',8,'b',1,2.88,7,'x']\n",
    "\n",
    "my_other_list[-3:]"
   ]
  },
  {
   "cell_type": "markdown",
   "metadata": {},
   "source": [
    "<div class=\"Q\"><br>\n",
    "\n",
    "Given the following List: <br><br>\n",
    "my_list = [2,5,8,7,1,2,7] <br><br>\n",
    "How do you access the 3rd item in the list (i.e. 8)? \n",
    "\n",
    "<br><br><div class=\"qhelp\"></div></div>"
   ]
  },
  {
   "cell_type": "markdown",
   "metadata": {},
   "source": [
    "<div class=\"Q\"><br>\n",
    "\n",
    "Given the following List: <br><br>\n",
    "my_list = [2,5,8,7,1,2,7] <br><br>\n",
    "How do you access the last 4 items in the list (i.e. 7,1,2,7)? \n",
    "\n",
    "<br><br><div class=\"qhelp\"></div></div>"
   ]
  },
  {
   "cell_type": "markdown",
   "metadata": {},
   "source": [
    "### Dictionaries\n",
    "\n",
    "Dictionaries are similar to \"structure-arrays\" in Matlab. A \"Dictionary\" stores items in a way that resembles a dictionary. You look up a \"keyword\" (e.g. \"apple\") and your immediately get the contents (i.e. \"Red round fruit that tastes good\").\n",
    "\n",
    "Dictionaries are great to quickly find a specific item within the dictionary.\n",
    "\n",
    "Lets make a dictionary:"
   ]
  },
  {
   "cell_type": "code",
   "execution_count": null,
   "metadata": {},
   "outputs": [],
   "source": [
    "my_dict = {'name':'Juan', 'age':27, 'gender':'male'}\n",
    "\n",
    "my_dict"
   ]
  },
  {
   "cell_type": "markdown",
   "metadata": {},
   "source": [
    "Let's query the dictionaty using the keywords:"
   ]
  },
  {
   "cell_type": "code",
   "execution_count": null,
   "metadata": {},
   "outputs": [],
   "source": [
    "my_dict['age']"
   ]
  },
  {
   "cell_type": "code",
   "execution_count": null,
   "metadata": {},
   "outputs": [],
   "source": [
    "my_dict['name']"
   ]
  },
  {
   "cell_type": "markdown",
   "metadata": {},
   "source": [
    "<div class=\"Q\"><br>\n",
    "\n",
    "Given the following Dictionary: <br><br>\n",
    "my_dict = {'name':'Juan', 'age':27, 'gender':'male'} <br><br>\n",
    "How do you access the contents stored under the 'age' key (i.e. 27)? \n",
    "\n",
    "<br><br><div class=\"qhelp\"></div></div>"
   ]
  },
  {
   "cell_type": "markdown",
   "metadata": {},
   "source": [
    "---------------------------------------------\n",
    "\n",
    "## Functions and methods\n",
    "\n",
    "**Functions** and **methods** are how you \"do stuff\" in Python. With one line of code you can do things like calculate a mean, or do a plot, or do a complicated statistical analysis. In essence, both **functions** and **methods** are code that accept an \"input\", do something to the input, and spits out an \"output\". The only thing you need to know and remember is the name of the function (or method). Arguably, learning Python is mostly learning the names of the available functions and methods.\n",
    "\n",
    "### Functions\n",
    "\n",
    "Functions are used following the \"nomenclature\" below:\n",
    "\n",
    "***output = FunctionName(input)***\n",
    "\n",
    "We already used a few functions above, namely the \"print\" function..."
   ]
  },
  {
   "cell_type": "code",
   "execution_count": null,
   "metadata": {},
   "outputs": [],
   "source": [
    "print('hello world!')"
   ]
  },
  {
   "cell_type": "markdown",
   "metadata": {},
   "source": [
    "...and the \"type\" function "
   ]
  },
  {
   "cell_type": "code",
   "execution_count": null,
   "metadata": {},
   "outputs": [],
   "source": [
    "type(124.87)"
   ]
  },
  {
   "cell_type": "markdown",
   "metadata": {},
   "source": [
    "In both case the output was simply displayed to screen, which happens when you do not specify what to do with the output. Below are a few examples where the output is saved to a variable:\n",
    "\n",
    "First lets do a list... and then apply some functions to it."
   ]
  },
  {
   "cell_type": "code",
   "execution_count": null,
   "metadata": {},
   "outputs": [],
   "source": [
    "mylist = [4,7,2,9,6,3,7,8,5,10]\n",
    "\n",
    "\n",
    "# Calcualte the sum\n",
    "sum(mylist)"
   ]
  },
  {
   "cell_type": "code",
   "execution_count": null,
   "metadata": {},
   "outputs": [],
   "source": [
    "# Figure out the maximum of a list\n",
    "a = max(mylist)\n",
    "\n",
    "a"
   ]
  },
  {
   "cell_type": "code",
   "execution_count": null,
   "metadata": {},
   "outputs": [],
   "source": [
    "# Figure out the minimum of a list\n",
    "min(mylist)"
   ]
  },
  {
   "cell_type": "code",
   "execution_count": null,
   "metadata": {},
   "outputs": [],
   "source": [
    "# Get the \"length\" of a list\n",
    "len(mylist)"
   ]
  },
  {
   "cell_type": "code",
   "execution_count": null,
   "metadata": {},
   "outputs": [],
   "source": [
    "# Get the \"type\" of Object\n",
    "type(mylist)"
   ]
  },
  {
   "cell_type": "markdown",
   "metadata": {},
   "source": [
    "Here is a list of the basic Functions built-in within Python:\n",
    "\n",
    "https://docs.python.org/2/library/functions.html\n",
    "\n",
    "However, there are a lot more. You can import functions from additional \"modules\" (or \"packages\")... therefore you have thousands of functions at your disposal. Here is an example about how to import the Module \"math\" and use one of its functions."
   ]
  },
  {
   "cell_type": "code",
   "execution_count": null,
   "metadata": {},
   "outputs": [],
   "source": [
    "# First import the module \"math\"\n",
    "import math\n",
    "\n",
    "# Then use the function \"sin\" within the module \"math\"\n",
    "math.sin(mylist[0])"
   ]
  },
  {
   "cell_type": "markdown",
   "metadata": {},
   "source": [
    "<span style=\"color:red\">Important:</span> Note that when using a function from an imported module, you need to add the module name to the function name. Thus the \"nomenclature\" is slightly modified as shown below:\n",
    "\n",
    "***output = ModuleName.FunctionName(input)***"
   ]
  },
  {
   "cell_type": "markdown",
   "metadata": {},
   "source": [
    "<div class=\"Q\"><br>\n",
    "\n",
    "Given the following statement: <br><br>\n",
    "c = max(my_list)<br><br>\n",
    "What is the name of the function? \n",
    "\n",
    "<br><br><div class=\"qhelp\"></div></div>"
   ]
  },
  {
   "cell_type": "markdown",
   "metadata": {},
   "source": [
    "<div class=\"Q\"><br>\n",
    "\n",
    "Given the following statement: <br><br>\n",
    "c = max(my_list)<br><br>\n",
    "What is the \"input\"? \n",
    "\n",
    "<br><br><div class=\"qhelp\"></div></div>"
   ]
  },
  {
   "cell_type": "markdown",
   "metadata": {},
   "source": [
    "<div class=\"Q\"><br>\n",
    "\n",
    "Given the following statement: <br><br>\n",
    "c = max(my_list)<br><br>\n",
    "What is the \"output\"? \n",
    "\n",
    "<br><br><div class=\"qhelp\"></div></div>"
   ]
  },
  {
   "cell_type": "markdown",
   "metadata": {},
   "source": [
    "<div class=\"Q\"><br>\n",
    "\n",
    "Given the following List: <br><br>\n",
    "my_list = [2,3,1] <br><br>\n",
    "... and the following statement:<br><br>\n",
    "output =  max(my_list)<br><br>\n",
    "What is the value of \"output\"? \n",
    "\n",
    "<br><br><div class=\"qhelp\"></div></div>"
   ]
  },
  {
   "cell_type": "markdown",
   "metadata": {},
   "source": [
    "<div class=\"Q\"><br>\n",
    "\n",
    "Given the following List: <br><br>\n",
    "my_list = [2,3,1] <br><br>\n",
    "... and the following statement:<br><br>\n",
    "output =  len(my_list)<br><br>\n",
    "What is the value of \"output\"? \n",
    "\n",
    "<br><br><div class=\"qhelp\"></div></div>"
   ]
  },
  {
   "cell_type": "markdown",
   "metadata": {},
   "source": [
    "### Methods\n",
    "\n",
    "Methods are similar to functions, but they follow a different \"nomenclature\":\n",
    "\n",
    "***output = input.MethodName(arguments)***\n",
    "\n",
    "The ***arguments*** are additional information sometimes required by the method.\n",
    "\n",
    "Note that before you can \"apply\" ***MethodName*** to the ***input*** object, we first need to create the ***input*** object.\n",
    "\n",
    "For example..."
   ]
  },
  {
   "cell_type": "code",
   "execution_count": null,
   "metadata": {},
   "outputs": [],
   "source": [
    "# First we create a \"list\" object\n",
    "mylist = [4,7,2,9,6,3,3,8,5,10]\n",
    "\n",
    "# Then, this appends the number \"2\" to the end of mylist\n",
    "mylist.append(2)\n",
    "\n",
    "print(mylist)"
   ]
  },
  {
   "cell_type": "markdown",
   "metadata": {},
   "source": [
    "Here the number 2 in the parenthesis is an ***argument***.\n",
    "\n",
    "Let do some more..."
   ]
  },
  {
   "cell_type": "code",
   "execution_count": null,
   "metadata": {},
   "outputs": [],
   "source": [
    "# This finds the number \"7\" in mylist, and removes it\n",
    "mylist.remove(7)\n",
    "\n",
    "print(mylist)"
   ]
  },
  {
   "cell_type": "code",
   "execution_count": null,
   "metadata": {},
   "outputs": [],
   "source": [
    "#This sorts mylist. Note that this method does not require any arguments, thus the parenthesis are left empty ()\n",
    "mylist.sort()\n",
    "\n",
    "print(mylist)"
   ]
  },
  {
   "cell_type": "code",
   "execution_count": null,
   "metadata": {},
   "outputs": [],
   "source": [
    "#This finds the number \"5\" in mylist and returns its index\n",
    "mylist.index(8)"
   ]
  },
  {
   "cell_type": "markdown",
   "metadata": {},
   "source": [
    "<div class=\"Q\"><br>\n",
    "\n",
    "Given the following statement: <br><br>\n",
    "c = mylist.remove(7)<br><br>\n",
    "What is the \"input\"?\n",
    "\n",
    "<br><br><div class=\"qhelp\"></div></div>"
   ]
  },
  {
   "cell_type": "markdown",
   "metadata": {},
   "source": [
    "<div class=\"Q\"><br>\n",
    "\n",
    "Given the following statement: <br><br>\n",
    "c = mylist.remove(7)<br><br>\n",
    "What is the \"output\"? \n",
    "\n",
    "<br><br><div class=\"qhelp\"></div></div>"
   ]
  },
  {
   "cell_type": "markdown",
   "metadata": {},
   "source": [
    "<div class=\"Q\"><br>\n",
    "\n",
    "Given the following statement: <br><br>\n",
    "c = mylist.remove(7)<br><br>\n",
    "What is the \"MethodName\"? \n",
    "\n",
    "<br><br><div class=\"qhelp\"></div></div>"
   ]
  },
  {
   "cell_type": "markdown",
   "metadata": {},
   "source": [
    "<div class=\"Q\"><br>\n",
    "\n",
    "Given the following statement: <br><br>\n",
    "c = mylist.remove(7)<br><br>\n",
    "What is the \"argument\"? \n",
    "\n",
    "<br><br><div class=\"qhelp\"></div></div>"
   ]
  },
  {
   "cell_type": "markdown",
   "metadata": {},
   "source": [
    "------------------------------\n",
    "## Real-life case study #1: Downloading real-time data from an oceanographic buoy in Oregon\n",
    "Up to here, everything probably sounds easy, but not really that useful. Lets show put it all together in a real-life application using 1 function and 1 method.\n",
    "\n",
    "There is an autonomous buoy in the Columbia River (Oregon, USA) that broadcasts real-time ocean data via the following server: http://columbia.loboviz.com/\n",
    "\n",
    "<table>\n",
    "  <tr>\n",
    "    <td><img src=\"./lobo.jpg\" width=\"300px\">LOBO Buoy</td>\n",
    "    <td><img src=\"./columbia_river.jpg\" width=\"400px\">Columbia River (Oregon, USA)</td>\n",
    "  </tr>\n",
    "</table>\n",
    "\n",
    "The following code connects to the buoy's server, downloads data, and makes a simple plot.\n",
    "\n",
    "In Spyder's ***Editor*** open a new file and save it as `buoy.py`. Copy-paste the code below and click [run]"
   ]
  },
  {
   "cell_type": "code",
   "execution_count": null,
   "metadata": {},
   "outputs": [],
   "source": [
    "# Import Pandas module\n",
    "import pandas as pd\n",
    "\n",
    "# Define URL buoy\n",
    "URL = 'http://columbia.loboviz.com/cgi-data/nph-data.cgi?x=date&y=temperature&min_date=20180820&max_date=20180907&node=32&data_format=text'\n",
    "\n",
    "# Read data from buoy\n",
    "buoy_data = pd.read_csv(URL,sep='\\t',header=2)\n",
    "\n",
    "# Do quick plot\n",
    "buoy_data.plot(x='date [PST]',y='temperature [C]', rot=90)"
   ]
  },
  {
   "cell_type": "markdown",
   "metadata": {},
   "source": [
    "<div class=\"Q\"><br>\n",
    "\n",
    "Take a look to the plot of temperature in the Colorado River (Oregon, USA).   <br><br>\n",
    "\n",
    "What do you think causes the oscillations in temperature?\n",
    "\n",
    "<br><br><div class=\"qhelp\"></div></div>"
   ]
  },
  {
   "cell_type": "markdown",
   "metadata": {},
   "source": [
    "### Code Explanation:\n",
    "\n",
    "#### Line 1: "
   ]
  },
  {
   "cell_type": "code",
   "execution_count": null,
   "metadata": {},
   "outputs": [],
   "source": [
    "import pandas as pd"
   ]
  },
  {
   "cell_type": "markdown",
   "metadata": {},
   "source": [
    "Here we imported the \"pandas\" module, which is a fantastic data analysis library (learn more: http://pandas.pydata.org/ ). Note that we also \"nicknamed\" the module \"pd\" so that we don't have to write the long name \"pandas\" before each function. \n",
    "\n",
    "#### Line 2: "
   ]
  },
  {
   "cell_type": "code",
   "execution_count": null,
   "metadata": {},
   "outputs": [],
   "source": [
    "URL = 'http://columbia.loboviz.com/cgi-data/nph-data.cgi?x=date&y=temperature&min_date=20170610&max_date=20170617&node=32&data_format=text'"
   ]
  },
  {
   "cell_type": "markdown",
   "metadata": {},
   "source": [
    "Here we assigned a string to a new variable that we decided to call \"URL\". Note that if you just copy-paste the full url into a browser, you would actually display the data in your browser as text. Of course, the tricky part is to figure out what url to query?... It is not hard, but I'll show you how to do this in another lab.  \n",
    "\n",
    "#### Line 3: "
   ]
  },
  {
   "cell_type": "code",
   "execution_count": null,
   "metadata": {},
   "outputs": [],
   "source": [
    "buoy_data = pd.read_csv(URL,sep='\\t',header=2)"
   ]
  },
  {
   "cell_type": "markdown",
   "metadata": {},
   "source": [
    "This line queries the server, downloads the data and puts it into a new variable that we called \"buoy_data\". Below is the breakdown:\n",
    "* **MethodName.FunctionName:** pd.read_csv\n",
    "* **Input:** URL\n",
    "* **Argument 1:** sep='\\t' (this specifies that the .csv file uses tabs as separators instead of commas)\n",
    "* **Argument 2:** header=2 (this specifies that the first 2 rows are headers)\n",
    "* **output:** buoy_data\n",
    "\n",
    "Note that the output, **buoy_data**, is a pandas DataFrame object. We'll talk more about this below. \n",
    "\n",
    "#### Line 4:"
   ]
  },
  {
   "cell_type": "code",
   "execution_count": null,
   "metadata": {},
   "outputs": [],
   "source": [
    "buoy_data.plot()"
   ]
  },
  {
   "cell_type": "markdown",
   "metadata": {},
   "source": [
    "Here we applied the method **plot** to the pandas DataFrame object **buoy_data**. The output is a plot!\n",
    "\n",
    "-------------------------\n",
    "\n",
    "Follow the hint below, then run the code again (you see the plot opens in a different window)"
   ]
  },
  {
   "cell_type": "markdown",
   "metadata": {},
   "source": [
    "\n",
    "<div style=\"background-color:#ffff80;color:balck;font-size:17px;width:100%;border:1px solid #666666;padding:5px\">\n",
    "<b>PLOTTING HINT</b><br><br>\n",
    "To display figures in a separate window (allowing you to zoom, save, pan, etc), open:<br><br>\n",
    "\n",
    "Tools > Preferences > IPython console > Graphics > Graphics backend<br><br>\n",
    "\n",
    "Then, select **Automatic** Backend\n",
    "</div>\n"
   ]
  },
  {
   "cell_type": "markdown",
   "metadata": {},
   "source": [
    "### Inspecting buoy_data:\n",
    "\n",
    "Making a quick plot is useful, but we likely also want to look at the actual data. Lets start by inspecting what type of object is **buoy_data**"
   ]
  },
  {
   "cell_type": "code",
   "execution_count": null,
   "metadata": {},
   "outputs": [],
   "source": [
    "type(buoy_data)"
   ]
  },
  {
   "cell_type": "markdown",
   "metadata": {},
   "source": [
    "As I said above, **buoy_data**, is a pandas DataFrame object (a *pandas.core.frame.DataFrame* to be specific). It is very similar to the core DataFrame in R. If you are not familiar with R, a good way to describe a pandas DataFrame is a table like an Excel spread-sheet, with rows and columns.\n",
    "\n",
    "To actually take look into **buoy_data**, simply type:"
   ]
  },
  {
   "cell_type": "code",
   "execution_count": null,
   "metadata": {},
   "outputs": [],
   "source": [
    "buoy_data"
   ]
  },
  {
   "cell_type": "markdown",
   "metadata": {},
   "source": [
    "This shows you the top and bottom of the table as well as some descriptors (e.g. 192 rows × 2 columns). If you only want to show the first few rows, apply the method **.head** to the **buoy_data** object:"
   ]
  },
  {
   "cell_type": "code",
   "execution_count": null,
   "metadata": {},
   "outputs": [],
   "source": [
    "buoy_data.head()"
   ]
  },
  {
   "cell_type": "markdown",
   "metadata": {},
   "source": [
    "<div class=\"Q\"><br>\n",
    "\n",
    "After you ran the following statement  <br><br>\n",
    "buoy_data.head()<br><br>\n",
    "What is the temperature (C) in the first record?\n",
    "\n",
    "<br><br><div class=\"qhelp\"></div></div>"
   ]
  },
  {
   "cell_type": "markdown",
   "metadata": {},
   "source": [
    "Similarly you can show only the end of the table by applying the **.tail** method to the **buoy_data** object:"
   ]
  },
  {
   "cell_type": "code",
   "execution_count": null,
   "metadata": {},
   "outputs": [],
   "source": [
    "buoy_data.tail()"
   ]
  },
  {
   "cell_type": "markdown",
   "metadata": {},
   "source": [
    "<div class=\"Q\"><br>\n",
    "\n",
    "After running the following statement  <br><br>\n",
    "buoy_data.tail()<br><br>\n",
    "What is the last temperature in your table?\n",
    "\n",
    "<br><br><div class=\"qhelp\"></div></div>"
   ]
  },
  {
   "cell_type": "markdown",
   "metadata": {},
   "source": [
    "Instead of referring to the entire table (**buoy_data**), you can just refer to one column. The table is a Python dictionary where the \"header\" of each column is the dictionary key which will return the entire column. For example, to refer ONLY to the temperature column, type:"
   ]
  },
  {
   "cell_type": "code",
   "execution_count": null,
   "metadata": {},
   "outputs": [],
   "source": [
    "buoy_data['temperature [C]']"
   ]
  },
  {
   "cell_type": "markdown",
   "metadata": {},
   "source": [
    "Lets calculate the average temperature by applying the **.mean** method only to the 'temperature [C]' column:"
   ]
  },
  {
   "cell_type": "code",
   "execution_count": null,
   "metadata": {},
   "outputs": [],
   "source": [
    "buoy_data['temperature [C]'].mean()"
   ]
  },
  {
   "cell_type": "markdown",
   "metadata": {},
   "source": [
    "Similarly, you can calculate the minimum, maximum, median, standard deviation, mode, etc..."
   ]
  },
  {
   "cell_type": "code",
   "execution_count": null,
   "metadata": {},
   "outputs": [],
   "source": [
    "buoy_data['temperature [C]'].min()\n"
   ]
  },
  {
   "cell_type": "code",
   "execution_count": null,
   "metadata": {},
   "outputs": [],
   "source": [
    "buoy_data['temperature [C]'].max()\n"
   ]
  },
  {
   "cell_type": "code",
   "execution_count": null,
   "metadata": {},
   "outputs": [],
   "source": [
    "buoy_data['temperature [C]'].median()\n"
   ]
  },
  {
   "cell_type": "code",
   "execution_count": null,
   "metadata": {},
   "outputs": [],
   "source": [
    "buoy_data['temperature [C]'].std()\n"
   ]
  },
  {
   "cell_type": "code",
   "execution_count": null,
   "metadata": {},
   "outputs": [],
   "source": [
    "buoy_data['temperature [C]'].mode()\n"
   ]
  },
  {
   "cell_type": "markdown",
   "metadata": {},
   "source": [
    "---------------------------------\n",
    "\n",
    "## Real-life case study #2: Downloading real-time data from a Glider (Autonomous Underwater Vehicle) from Nova Scotia\n",
    "\n",
    "<table>\n",
    "  <tr>\n",
    "    <td><img src=\"slocum_glider.jpg\" width=\"400px\">Slocum Glider</td>\n",
    "    <td><img src=\"./otn200.png\" width=\"500px\">Current deployment</td>\n",
    "  </tr>\n",
    "</table>\n",
    "\n",
    "\n",
    "\n",
    "The code below pulls data from a glider currently deployed off the coast of Nova Scotia (http://gliders.oceantrack.org/). The code also does a simple quality control and makes a rough depth-vs-time scatter plot.\n",
    "\n",
    "In ***Spyder*** open a new file, name it `glider.py`, copy-paste the code below and click [run]."
   ]
  },
  {
   "cell_type": "code",
   "execution_count": null,
   "metadata": {},
   "outputs": [],
   "source": [
    "# Import Pandas module\n",
    "import pandas as pd\n",
    "\n",
    "# Define URL of glider\n",
    "URL = 'http://gliders.oceantrack.org/data/live/otn201_sci_water_temp_live.csv'\n",
    "\n",
    "# Read data from glider server\n",
    "glider_data = pd.read_csv(URL,sep=',')\n",
    "\n",
    "# Quality Control: Filter out data above 40oC and below -8oC\n",
    "glider_data = glider_data[(glider_data.sci_water_temp < 40) & (glider_data.sci_water_temp > -8)]\n",
    "\n",
    "# Make a scatter plot\n",
    "glider_data.plot.scatter('unixtime',\n",
    "                         'depth',\n",
    "                         c='sci_water_temp',\n",
    "                         marker='o',\n",
    "                         edgecolor='none',\n",
    "                         cmap='viridis',\n",
    "                         ylim=[glider_data['depth'].max(),0],\n",
    "                         figsize=[19,9])"
   ]
  },
  {
   "cell_type": "markdown",
   "metadata": {},
   "source": [
    "The left side of the graph shows the data collected at the beginning of the deployment. The right side of the graph shows the most recently collected data. The top of the graph shows the temperature close to the surface (0 m) while data points at the bottom of the graph represent temperature near the bottom (~150 m). "
   ]
  },
  {
   "cell_type": "markdown",
   "metadata": {},
   "source": [
    "Take a look inside `glider_data`"
   ]
  },
  {
   "cell_type": "code",
   "execution_count": null,
   "metadata": {},
   "outputs": [],
   "source": [
    "glider_data.head()"
   ]
  },
  {
   "cell_type": "markdown",
   "metadata": {},
   "source": [
    "Tough question: What is the maximum depth recorded in this dataset? Hint: Apply the **.max** method on the \"depth\" column."
   ]
  },
  {
   "cell_type": "markdown",
   "metadata": {},
   "source": [
    "<div class=\"Q\"><br>\n",
    "\n",
    "What is the **maximum** depth recorded in glider_data?  <br><br>\n",
    "\n",
    "<br><br><div class=\"qhelp\"></div></div>"
   ]
  },
  {
   "cell_type": "markdown",
   "metadata": {},
   "source": [
    "More tough questions:"
   ]
  },
  {
   "cell_type": "markdown",
   "metadata": {},
   "source": [
    "<div class=\"Q\"><br>\n",
    "\n",
    "What is the **maximum** water temperature recorded in the \"sci_water_temp\" column within glider_data?  <br><br>\n",
    "\n",
    "<br><br><div class=\"qhelp\"></div></div>\n"
   ]
  },
  {
   "cell_type": "markdown",
   "metadata": {},
   "source": [
    "<div class=\"Q\"><br>\n",
    "\n",
    "What is the **minimum** water temperature recorded in the \"sci_water_temp\" column within glider_data?  <br><br>\n",
    "\n",
    "<br><br><div class=\"qhelp\"></div></div>\n"
   ]
  },
  {
   "cell_type": "markdown",
   "metadata": {},
   "source": [
    "\n",
    "<div class=\"Q\"><br>\n",
    "\n",
    "How many records are in the \"sci_water_temp\" column within glider_data?   <br><br>\n",
    "\n",
    "<br><br><div class=\"qhelp\"></div></div>"
   ]
  },
  {
   "cell_type": "markdown",
   "metadata": {},
   "source": [
    "Finally, lets change the plot a bit. Change the colormap of your plot by changing **cmap** from 'viridis' to 'inferno'. Run the code again. How does the new plot look?"
   ]
  },
  {
   "cell_type": "markdown",
   "metadata": {},
   "source": [
    "---------------------------\n",
    "\n",
    "## Real-life case study #3: Downloading Satellite data from an ERDDAP server\n",
    "### New MODULES: netCDF4, basemap    |   New OBJECTS: netCDF4, basemap\n",
    "\n",
    "<img src=\"poes-750.jpg\" width=\"600px\">\n",
    "\n",
    "ERDDAP is a data server that simplifies the download of subsets of scientific datasets to make graphs and maps.\n",
    "\n",
    "Here we will be using one of NOAA's ERDDAP: \n",
    "\n",
    "https://coastwatch.pfeg.noaa.gov/erddap/info/index.html?page=1&itemsPerPage=2000\n",
    "\n",
    "Here we will also use the netCDF4 library to read/write .nc files, which are commonly used in oceanography.\n",
    "\n",
    "<span style=\"color:red\">IMPORTANT:</span> IF you haven't installed basemay and netcdf4 yet.... type in the ***Terminal***: \n",
    "\n",
    "`conda install basemap netcdf4`\n",
    "\n",
    "----------\n",
    "\n",
    "First, lets get ourselves some Sea Surface Temperature (SST) from the Nova Scotia region. For this we will use an ERDDAP product consisting on 6-month averages of several POES satellites.\n",
    "\n",
    "In Spyder's ***Editor*** open a new file and save it as `satellite.py`. Copy-paste the code below and click [run]\n",
    "\n",
    "Note that the code below is pretty much \"the real deal\". It is as complicated as it gets with Python, yet it is just a series of statements declaring variables and applying functions and methods. Note that, **by convention**, at the top of the file you import all the modules you need."
   ]
  },
  {
   "cell_type": "code",
   "execution_count": null,
   "metadata": {},
   "outputs": [],
   "source": [
    "import urllib.request # this module is to read files on the internet\n",
    "import netCDF4 # this module reads and writes netCDF files\n",
    "import numpy as np # \"Numerical Python\" module to do matrix mathematics\n",
    "import matplotlib.pyplot as plt # Plotting module\n",
    "from mpl_toolkits.basemap import Basemap # Mapping module\n",
    "\n",
    "# Define the spatial and temporal box of interest\n",
    "year = 2015\n",
    "month = 8\n",
    "minlat = 38\n",
    "maxlat = 48\n",
    "minlon = -67\n",
    "maxlon = -50\n",
    "isub = 0.5\n",
    "\n",
    "# Make \"minday\" and \"maxday\" strings by concatenating several pieces\n",
    "minday = str(year)+'-'+str(month).zfill(2)+'-11T12:00:00Z'\n",
    "maxday = str(year)+'-'+str(month+1).zfill(2)+'-11T12:00:00Z'\n",
    "\n",
    "# Create the URL\n",
    "base_url='http://coastwatch.pfeg.noaa.gov/erddap/griddap/erdAGsstamday_LonPM180.nc?'\n",
    "query='sst[('+minday+'):'+str(isub)+':('+maxday+')][(0.0):'+str(isub)+':(0.0)][('+str(minlat)+'):'+str(isub)+':('+str(maxlat)+')][('+str(minlon)+'):'+str(isub)+':('+str(maxlon)+')]'\n",
    "url = base_url+query\n",
    "\n",
    "\n",
    "# Download data and store it in a NetCDF file\n",
    "filename='satellite_data_tempfile.nc'\n",
    "urllib.request.urlretrieve (url, filename)\n",
    "\n",
    "# open NetCDF data\n",
    "nc = netCDF4.Dataset(filename)\n",
    "ncv = nc.variables\n",
    "\n",
    "# Extract variables of interest from inside the NetCDF file\n",
    "lon = ncv['longitude'][:]\n",
    "lat = ncv['latitude'][:]\n",
    "sst = ncv['sst'][0,0,:,:]\n",
    "\n",
    "# Make grids of lats and lons for later use to make maps\n",
    "lons, lats = np.meshgrid(lon,lat)\n",
    "\n",
    "# Create map (Miller Projection)\n",
    "m = Basemap(projection='mill', llcrnrlat=minlat,urcrnrlat=maxlat,llcrnrlon=minlon, urcrnrlon=maxlon,resolution='i')\n",
    "\n",
    "# Create Figure\n",
    "fig1 = plt.figure(figsize=(17,11)) # Make figure\n",
    "cs = m.pcolormesh(lons,lats,sst,cmap=plt.cm.jet,latlon=True) # create the colored map\n",
    "m.drawcoastlines() # Draw costline\n",
    "cbar = plt.colorbar() # Draw colorbar\n",
    "cbar.ax.set_xlabel('Sea Surface Temperature ($^\\circ$C)') # Write label on colorbar\n"
   ]
  },
  {
   "cell_type": "markdown",
   "metadata": {},
   "source": [
    "Take a look at the generated map. You can see the Gulf Stream in the south (bottom of the graph), which has temperatures in excess of 25$^\\circ$C. You can also see that in the Bay of Fundy (Nova Scotia) the temperature is cold (about 13$^\\circ$C), likely because the extreme tides cause a lot of vertical mixing which brings cold water to the surface. \n",
    "\n",
    "What do you think is the average temperature in the whole map?\n",
    "\n",
    "Luckily this is easy to find by applying the **.mean** method to out Sea Surface Temperature data (sst):"
   ]
  },
  {
   "cell_type": "code",
   "execution_count": null,
   "metadata": {},
   "outputs": [],
   "source": [
    "sst.mean()"
   ]
  },
  {
   "cell_type": "markdown",
   "metadata": {},
   "source": [
    "Lets see if you can figure out what are the minimum and the maximum temperatures is sst."
   ]
  },
  {
   "cell_type": "code",
   "execution_count": null,
   "metadata": {},
   "outputs": [],
   "source": [
    "sst.max()"
   ]
  },
  {
   "cell_type": "markdown",
   "metadata": {},
   "source": [
    "<div class=\"Q\"><br>\n",
    "\n",
    "What is the **minimum** recorded Sea Surface Temperature in the sst data?   <br><br>\n",
    "\n",
    "<br><br><div class=\"qhelp\"></div></div>\n"
   ]
  },
  {
   "cell_type": "markdown",
   "metadata": {},
   "source": [
    "<div class=\"Q\"><br>\n",
    "\n",
    "What is the **maximum** recorded Sea Surface Temperature in the sst data?   <br><br>\n",
    "\n",
    "<br><br><div class=\"qhelp\"></div></div>"
   ]
  },
  {
   "cell_type": "markdown",
   "metadata": {},
   "source": [
    "Lets do another map, this time using a \"Lamber Conformal Conic Projection\". Luckily, you can use the same data (i.e. no need to download data again), and simply create the new map with the new projection.\n",
    "\n",
    "In this map I added some extra labels, colorbar and shadeRelief.\n",
    "\n",
    "THIS MAP TAKES A LONG TIME (1 minute) TO PLOT!!! (because of the shaderelief)\n",
    "\n",
    "Copy-paste the code below into Spyder's ***Console*** and click [Enter]."
   ]
  },
  {
   "cell_type": "code",
   "execution_count": null,
   "metadata": {},
   "outputs": [],
   "source": [
    "\n",
    "# Create map (Lamber Comformal Conic Projection)\n",
    "m = Basemap(llcrnrlon=-80.5,llcrnrlat=40.,urcrnrlon=-40.566,urcrnrlat=44.352,\\\n",
    "            rsphere=(6378137.00,6356752.3142),\\\n",
    "            resolution='i',area_thresh=1000.,projection='lcc',\\\n",
    "            lat_1=45.,lon_0=-107.)\n",
    "fig2 = plt.figure(figsize=(16,16))\n",
    "cs = m.pcolormesh(lons,lats,sst,cmap=plt.cm.jet,latlon=True)\n",
    "m.drawcoastlines()\n",
    "m.drawmapboundary()\n",
    "plt.title('Satellite SST (Monthly composite for '+str(year)+'/'+str(month)+')')\n",
    "cbar = plt.colorbar(orientation='horizontal', extend='both')\n",
    "cbar.ax.set_xlabel('Sea Surface Temperature ($^\\circ$C)')\n",
    "m.shadedrelief()"
   ]
  },
  {
   "cell_type": "markdown",
   "metadata": {},
   "source": [
    "We will have a more in depth Lab about making maps with Basemap. In the mean time, feel free to explore other projections and make some extra maps. Here are some Galleries:\n",
    "\n",
    "https://basemaptutorial.readthedocs.io/en/latest/projections.html\n",
    "\n",
    "http://balzer82.github.io/BasemapExampleGallery/\n"
   ]
  },
  {
   "cell_type": "markdown",
   "metadata": {
    "collapsed": true
   },
   "source": [
    "\n",
    "# **This is the end of lab**\n",
    "\n",
    "*******************\n",
    "*******************\n",
    "\n",
    "Code below is for formatting of this lab. Do not alter!"
   ]
  },
  {
   "cell_type": "code",
   "execution_count": 2,
   "metadata": {},
   "outputs": [
    {
     "data": {
      "text/html": [
       "<style>\n",
       "\n",
       "body {\n",
       "  counter-reset: question_num;                     /* Set a counter named 'section', and it`s initial value is 0. */\n",
       "}\n",
       "\n",
       "/* Question Box */\n",
       ".Q {\n",
       "    background-color:#ff9900;\n",
       "    color:black;\n",
       "    font-size:17px;\n",
       "    width:100%;\n",
       "    border:1px solid #666666;\n",
       "    padding:5px;\n",
       "}\n",
       "\n",
       ".Q::before {\n",
       "    counter-increment: question_num;\n",
       "    content: \"QUESTION \" counter(question_num) '\\A';\n",
       "    white-space: pre;\n",
       "}\n",
       "\n",
       ".qhelp {\n",
       "    color:#666666;\n",
       "    font-size:15px\n",
       "}\n",
       "\n",
       ".qhelp::after {\n",
       "    content: \"Answer this question in the corresponding Brightspace LAB quiz\"\n",
       "}\n",
       "\n",
       "\n",
       "\n",
       "/* code */\n",
       ".rendered_html pre, .rendered_html code {\n",
       "    font-family: \"SF Mono\",\"Segoe UI Mono\",\"Roboto Mono\",\"Ubuntu Mono\",Menlo,Courier,monospace;\n",
       "    padding: 1px 3px;\n",
       "    border: 1px solid #e6e6e6;\n",
       "    border-radius: 3px;\n",
       "    background: #e6e6e6;\n",
       "    font-size: 12px;\n",
       "    line-height: 1.4;\n",
       "    color: #0052CC;\n",
       "}\n",
       "\n",
       "\n",
       "/* Copy to CONSOLE */\n",
       ".c2c {\n",
       "    background-color:#d2d2d2;\n",
       "    color:#ff8080;\n",
       "    font-size:13px;\n",
       "    border:1px solid #bfbfbf;\n",
       "    padding:1px 3px;\n",
       "    border-radius: 3px;\n",
       "    margin-top: 10px;\n",
       "    display: inline-block;\n",
       "}\n",
       "\n",
       ".c2c::before {\n",
       "    content: \"Copy-paste into Spyder's Console\";\n",
       "}\n",
       "\n",
       "\n",
       "/* RUN */\n",
       ".run {\n",
       "    background-color:#d2d2d2;\n",
       "    color:#00b300;\n",
       "    font-size: 12px;\n",
       "    line-height: 1.4;\n",
       "    font-weight: bold;\n",
       "    border:1px solid #bfbfbf;\n",
       "    padding-top:0px;\n",
       "    padding-bottom:0px;\n",
       "    padding-left:3px;\n",
       "    padding-right:3px;\n",
       "    border-radius: 3px;\n",
       "    display: inline-block;\n",
       "}\n",
       ".run::before {\n",
       "    content: \"\\25B6\" \"RUN\";\n",
       "}\n",
       "\n",
       "/* RUN */\n",
       ".runcell {\n",
       "    background-color:#d2d2d2;\n",
       "    color:#00b300;\n",
       "    font-size: 12px;\n",
       "    line-height: 1.4;\n",
       "    border:1px solid #bfbfbf;\n",
       "    padding-top:0px;\n",
       "    padding-bottom:0px;\n",
       "    padding-left:3px;\n",
       "    padding-right:3px;\n",
       "    border-radius: 3px;\n",
       "    display: inline-block;\n",
       "}\n",
       ".runcell::before {\n",
       "    content: \"RUN current cell\";\n",
       "}\n",
       "\n",
       "/* FILE */\n",
       ".file {\n",
       "    color:#b36b00;\n",
       "    font-size: 12px;\n",
       "    line-height: 1.4;\n",
       "    font-weight: bold;\n",
       "    border:1px solid #bfbfbf;\n",
       "    padding-top:0px;\n",
       "    padding-bottom:0px;\n",
       "    padding-left:3px;\n",
       "    padding-right:3px;\n",
       "    border-radius: 3px;\n",
       "    display: inline-block;\n",
       "}\n",
       "\n",
       "/* important */\n",
       ".important {\n",
       "    background-color:#ff4d4d;\n",
       "    color:black;\n",
       "    font-size: 13px;\n",
       "    line-height: 1.4;\n",
       "    font-weight: bold;\n",
       "    border:1px solid #bfbfbf;\n",
       "    padding-top:0px;\n",
       "    padding-bottom:0px;\n",
       "    padding-left:3px;\n",
       "    padding-right:3px;\n",
       "    border-radius: 3px;\n",
       "    display: inline-block;\n",
       "    margin-top:5px;\n",
       "}\n",
       ".important::before {\n",
       "    content: \"Important:\";\n",
       "}\n",
       "\n",
       "/* important */\n",
       ".note {\n",
       "    background-color:#ffff80;\n",
       "    color:black;\n",
       "    font-size: 13px;\n",
       "    line-height: 1.4;\n",
       "    font-weight: bold;\n",
       "    border:1px solid #bfbfbf;\n",
       "    padding-top:0px;\n",
       "    padding-bottom:0px;\n",
       "    padding-left:3px;\n",
       "    padding-right:3px;\n",
       "    border-radius: 3px;\n",
       "    display: inline-block;\n",
       "    margin-top:5px;\n",
       "}\n",
       ".note::before {\n",
       "    content: \"Note:\";\n",
       "}\n",
       "\n",
       "/* checkpoint */\n",
       ".checkpoint {\n",
       "    background-color:yellow;\n",
       "    color:blue;\n",
       "    font-size: 15px;\n",
       "    line-height: 1.4;\n",
       "    font-weight: bold;\n",
       "    border:1px solid #bfbfbf;\n",
       "    padding-top:0px;\n",
       "    padding-bottom:0px;\n",
       "    padding-left:3px;\n",
       "    padding-right:3px;\n",
       "    border-radius: 3px;\n",
       "    display: inline-block;\n",
       "    margin-top:5px;\n",
       "}\n",
       "\n",
       ".codeerror {\n",
       "    background-color:#ffb3b3;\n",
       "    color:red;\n",
       "    font-size: 13px;\n",
       "    line-height: 1.4;\n",
       "    border:1px solid #ffb3b3;\n",
       "    padding-top:7px;\n",
       "    padding-bottom:7px;\n",
       "    padding-left:7px;\n",
       "    padding-right:7px;\n",
       "    border-radius: 3px;\n",
       "    margin:20px;\n",
       "    margin-left:25px;\n",
       "}\n",
       "\n",
       ".lineerror {\n",
       "    background-color:#ffb3b3;\n",
       "    color:red;\n",
       "    font-size: 13px;\n",
       "    line-height: 1.4;\n",
       "    border:1px solid #ffb3b3;\n",
       "    padding-top:0px;\n",
       "    padding-bottom:0px;\n",
       "    padding-left:3px;\n",
       "    padding-right:3px;\n",
       "    border-radius: 3px;\n",
       "    display: inline-block;\n",
       "    margin-top:5px;\n",
       "}\n",
       "\n",
       "\n",
       "/* terminal */\n",
       ".terminal {\n",
       "    background-color:black;\n",
       "    color:white;\n",
       "    font-size: 12px;\n",
       "    line-height: 1.4;\n",
       "    border:1px solid black;\n",
       "    padding-top:0px;\n",
       "    padding-bottom:0px;\n",
       "    padding-left:3px;\n",
       "    padding-right:3px;\n",
       "    border-radius: 3px;\n",
       "    display: inline-block;\n",
       "}\n",
       ".terminal::before {\n",
       "    content: \"Terminal (i.e. Anaconda Promt)\";\n",
       "}\n",
       ".terminalBlock {\n",
       "    background-color:black;\n",
       "    color:white;\n",
       "    font-size: 14px;\n",
       "    line-height: 1.4;\n",
       "    border:1px solid black;\n",
       "    padding-top:7px;\n",
       "    padding-bottom:7px;\n",
       "    padding-left:7px;\n",
       "    padding-right:7px;\n",
       "    border-radius: 3px;\n",
       "    margin:20px;\n",
       "    margin-left:25px;\n",
       "}\n",
       "\n",
       "</style>"
      ],
      "text/plain": [
       "<IPython.core.display.HTML object>"
      ]
     },
     "execution_count": 2,
     "metadata": {},
     "output_type": "execute_result"
    }
   ],
   "source": [
    "# Loads css file and applies it to lab HTML\n",
    "from IPython.core.display import HTML\n",
    "def css():\n",
    "    style = open(\"../css/custom.css\", \"r\").read()\n",
    "    return HTML(style)\n",
    "css()"
   ]
  },
  {
   "cell_type": "code",
   "execution_count": null,
   "metadata": {},
   "outputs": [],
   "source": []
  }
 ],
 "metadata": {
  "anaconda-cloud": {},
  "kernelspec": {
   "display_name": "Python 3",
   "language": "python",
   "name": "python3"
  },
  "language_info": {
   "codemirror_mode": {
    "name": "ipython",
    "version": 3
   },
   "file_extension": ".py",
   "mimetype": "text/x-python",
   "name": "python",
   "nbconvert_exporter": "python",
   "pygments_lexer": "ipython3",
   "version": "3.7.3"
  }
 },
 "nbformat": 4,
 "nbformat_minor": 1
}
